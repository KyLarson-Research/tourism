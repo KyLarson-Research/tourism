{
 "cells": [
  {
   "cell_type": "code",
   "execution_count": 1,
   "metadata": {},
   "outputs": [],
   "source": [
    "#file name: tourism.ipynb\n",
    "#author: Solange  \n",
    "#Objective: To predict which customer is more likely to purchase the newly introduced travel package.\n",
    "import pandas as pd\n",
    "import numpy as np\n",
    "import scipy.stats as st\n",
    "from sklearn.model_selection import train_test_split\n",
    "from sklearn.preprocessing import OneHotEncoder\n",
    "from sklearn import metrics\n",
    "import matplotlib.pyplot as plt\n",
    "import warnings\n",
    "warnings.filterwarnings('ignore')\n",
    "import seaborn as sns\n",
    "from sklearn.model_selection import train_test_split\n",
    "from sklearn.tree import DecisionTreeClassifier\n",
    "from sklearn import tree\n",
    "from sklearn.metrics import accuracy_score\n",
    "from sklearn.model_selection import GridSearchCV\n",
    "from sklearn import metrics\n",
    "from sklearn.ensemble import BaggingClassifier, RandomForestClassifier\n",
    "from sklearn.linear_model import LogisticRegression\n",
    "#from xgboost import XGBRegressor #<-this requires library install"
   ]
  },
  {
   "cell_type": "code",
   "execution_count": 2,
   "metadata": {},
   "outputs": [],
   "source": [
    "from xgboost import XGBClassifier\n",
    "from sklearn.tree import DecisionTreeClassifier\n",
    "from sklearn.ensemble import AdaBoostClassifier, GradientBoostingClassifier"
   ]
  },
  {
   "cell_type": "code",
   "execution_count": 3,
   "metadata": {},
   "outputs": [],
   "source": [
    "# Two sample t-test for comparing mean\n",
    "\n",
    "import scipy.stats as st\n",
    "#Lets define some useful stats quantities for analysis\n",
    "def ssdev(X):\n",
    "    xbar = np.mean(X)\n",
    "    s= sum([(x-xbar)**2 for x in X])\n",
    "    ssd =( s / (len(X)-1) )**.5\n",
    "    return ssd\n",
    "def tstat(xb1, xb2, ss1, ss2, n1, n2):\n",
    "    #this is a rough estimator and not using pooled t-test\n",
    "    print(\"tstat: xb1, xb2, ss1, ss2, n1, n2 \")\n",
    "    print(str([xb1, xb2, ss1, ss2, n1, n2]) )\n",
    "    SE = (ss1**2/n1 + ss2**2/n2)**.5\n",
    "    ts = (xb1 - xb2)/SE\n",
    "    return ts\n",
    "def twos_twotail_ttest(Samp1, Samp2, sig):\n",
    "    x_bar_1 = np.mean(Samp1)\n",
    "    x_bar_2 = np.mean(Samp2)\n",
    "    ssdev_1 = ssdev(Samp1)\n",
    "    ssdev_2 = ssdev(Samp2)\n",
    "#the degrees of freedom is the smaller of the two n1-1 and n2-1\n",
    "    df_12 = min(len(Samp1), len(Samp2)) -1\n",
    "    #print the critical values designating the ending and beginning of rejection region\n",
    "    print(st.t.interval(alpha=(1-sig), df=df_12, loc=0, scale=1) )\n",
    "#lastly, calculate the t-stsat\n",
    "    t_s = tstat(x_bar_1, x_bar_2, ssdev_1, ssdev_2, len(Samp1), len(Samp2))\n",
    "    print(t_s)"
   ]
  },
  {
   "cell_type": "code",
   "execution_count": 4,
   "metadata": {},
   "outputs": [],
   "source": [
    "def zstat(x1, x2, n1, n2):\n",
    "    p1 = x1/n1\n",
    "    p2 = x2/n2\n",
    "    pooled_prop = (p1*n1+p2*n2)/(n1+n2)\n",
    "    SE = (pooled_prop*(1-pooled_prop)*(1/n1+1/n2))**.5\n",
    "    z_stat = (p1-p2)/SE\n",
    "    return z_stat\n",
    "def twoprop_twotail_z(Samp1, Samp2, sig):\n",
    "    #note Samp1 and Samp2 are assumed to have binary value 0 or 1\n",
    "    print(st.norm.interval(alpha=(1-sig), loc=0, scale=1) )\n",
    "    z_s = zstat(sum(Samp1), sum(Samp2), len(Samp1), len(Samp2))\n",
    "    print(z_s)"
   ]
  },
  {
   "cell_type": "code",
   "execution_count": 5,
   "metadata": {},
   "outputs": [],
   "source": [
    "##  Function to calculate different metric scores of the model - Accuracy, Recall and Precision\n",
    "def get_metrics_score(model,flag=True):\n",
    "    '''\n",
    "    model : classifier to predict values of X\n",
    "\n",
    "    '''\n",
    "    # defining an empty list to store train and test results\n",
    "    score_list=[] \n",
    "    \n",
    "    pred_train = model.predict(X_train)\n",
    "    pred_test = model.predict(X_val)\n",
    "    \n",
    "    train_acc = model.score(X_train,y_train)\n",
    "    test_acc = model.score(X_val,y_val)\n",
    "    \n",
    "    train_recall = metrics.recall_score(y_train,pred_train)\n",
    "    test_recall = metrics.recall_score(y_val,pred_test)\n",
    "    \n",
    "    train_precision = metrics.precision_score(y_train,pred_train)\n",
    "    test_precision = metrics.precision_score(y_val,pred_test)\n",
    "    \n",
    "    score_list.extend((train_acc,test_acc,train_recall,test_recall,train_precision,test_precision))\n",
    "        \n",
    "    # If the flag is set to True then only the following print statements will be dispayed. The default value is set to True.\n",
    "    if flag == True: \n",
    "        print(\"Accuracy on training set : \",model.score(X_train,y_train))\n",
    "        print(\"Accuracy on test set : \",model.score(X_val,y_val))\n",
    "        print(\"Recall on training set : \",metrics.recall_score(y_train,pred_train))\n",
    "        print(\"Recall on test set : \",metrics.recall_score(y_val,pred_test))\n",
    "        print(\"Precision on training set : \",metrics.precision_score(y_train,pred_train))\n",
    "        print(\"Precision on test set : \",metrics.precision_score(y_val,pred_test))\n",
    "    \n",
    "    return score_list # returning the list with train and test scores"
   ]
  },
  {
   "cell_type": "code",
   "execution_count": 6,
   "metadata": {},
   "outputs": [],
   "source": [
    "#Specify and open/read the raw data file to DataFrame\n",
    "tourism_data_file_reference = \"tourism.csv\"\n",
    "tourism_data = pd.read_csv(tourism_data_file_reference)"
   ]
  },
  {
   "cell_type": "code",
   "execution_count": 7,
   "metadata": {},
   "outputs": [
    {
     "data": {
      "text/html": [
       "<div>\n",
       "<style scoped>\n",
       "    .dataframe tbody tr th:only-of-type {\n",
       "        vertical-align: middle;\n",
       "    }\n",
       "\n",
       "    .dataframe tbody tr th {\n",
       "        vertical-align: top;\n",
       "    }\n",
       "\n",
       "    .dataframe thead th {\n",
       "        text-align: right;\n",
       "    }\n",
       "</style>\n",
       "<table border=\"1\" class=\"dataframe\">\n",
       "  <thead>\n",
       "    <tr style=\"text-align: right;\">\n",
       "      <th></th>\n",
       "      <th>CustomerID</th>\n",
       "      <th>ProdTaken</th>\n",
       "      <th>Age</th>\n",
       "      <th>CityTier</th>\n",
       "      <th>DurationOfPitch</th>\n",
       "      <th>NumberOfPersonVisiting</th>\n",
       "      <th>NumberOfFollowups</th>\n",
       "      <th>PreferredPropertyStar</th>\n",
       "      <th>NumberOfTrips</th>\n",
       "      <th>Passport</th>\n",
       "      <th>PitchSatisfactionScore</th>\n",
       "      <th>OwnCar</th>\n",
       "      <th>NumberOfChildrenVisiting</th>\n",
       "      <th>MonthlyIncome</th>\n",
       "    </tr>\n",
       "  </thead>\n",
       "  <tbody>\n",
       "    <tr>\n",
       "      <th>count</th>\n",
       "      <td>4888.000000</td>\n",
       "      <td>4888.000000</td>\n",
       "      <td>4662.000000</td>\n",
       "      <td>4888.000000</td>\n",
       "      <td>4637.000000</td>\n",
       "      <td>4888.000000</td>\n",
       "      <td>4843.000000</td>\n",
       "      <td>4862.000000</td>\n",
       "      <td>4748.000000</td>\n",
       "      <td>4888.000000</td>\n",
       "      <td>4888.000000</td>\n",
       "      <td>4888.000000</td>\n",
       "      <td>4822.000000</td>\n",
       "      <td>4655.000000</td>\n",
       "    </tr>\n",
       "    <tr>\n",
       "      <th>mean</th>\n",
       "      <td>202443.500000</td>\n",
       "      <td>0.188216</td>\n",
       "      <td>37.622265</td>\n",
       "      <td>1.654255</td>\n",
       "      <td>15.490835</td>\n",
       "      <td>2.905074</td>\n",
       "      <td>3.708445</td>\n",
       "      <td>3.581037</td>\n",
       "      <td>3.236521</td>\n",
       "      <td>0.290917</td>\n",
       "      <td>3.078151</td>\n",
       "      <td>0.620295</td>\n",
       "      <td>1.187267</td>\n",
       "      <td>23619.853491</td>\n",
       "    </tr>\n",
       "    <tr>\n",
       "      <th>std</th>\n",
       "      <td>1411.188388</td>\n",
       "      <td>0.390925</td>\n",
       "      <td>9.316387</td>\n",
       "      <td>0.916583</td>\n",
       "      <td>8.519643</td>\n",
       "      <td>0.724891</td>\n",
       "      <td>1.002509</td>\n",
       "      <td>0.798009</td>\n",
       "      <td>1.849019</td>\n",
       "      <td>0.454232</td>\n",
       "      <td>1.365792</td>\n",
       "      <td>0.485363</td>\n",
       "      <td>0.857861</td>\n",
       "      <td>5380.698361</td>\n",
       "    </tr>\n",
       "    <tr>\n",
       "      <th>min</th>\n",
       "      <td>200000.000000</td>\n",
       "      <td>0.000000</td>\n",
       "      <td>18.000000</td>\n",
       "      <td>1.000000</td>\n",
       "      <td>5.000000</td>\n",
       "      <td>1.000000</td>\n",
       "      <td>1.000000</td>\n",
       "      <td>3.000000</td>\n",
       "      <td>1.000000</td>\n",
       "      <td>0.000000</td>\n",
       "      <td>1.000000</td>\n",
       "      <td>0.000000</td>\n",
       "      <td>0.000000</td>\n",
       "      <td>1000.000000</td>\n",
       "    </tr>\n",
       "    <tr>\n",
       "      <th>25%</th>\n",
       "      <td>201221.750000</td>\n",
       "      <td>0.000000</td>\n",
       "      <td>31.000000</td>\n",
       "      <td>1.000000</td>\n",
       "      <td>9.000000</td>\n",
       "      <td>2.000000</td>\n",
       "      <td>3.000000</td>\n",
       "      <td>3.000000</td>\n",
       "      <td>2.000000</td>\n",
       "      <td>0.000000</td>\n",
       "      <td>2.000000</td>\n",
       "      <td>0.000000</td>\n",
       "      <td>1.000000</td>\n",
       "      <td>20346.000000</td>\n",
       "    </tr>\n",
       "    <tr>\n",
       "      <th>50%</th>\n",
       "      <td>202443.500000</td>\n",
       "      <td>0.000000</td>\n",
       "      <td>36.000000</td>\n",
       "      <td>1.000000</td>\n",
       "      <td>13.000000</td>\n",
       "      <td>3.000000</td>\n",
       "      <td>4.000000</td>\n",
       "      <td>3.000000</td>\n",
       "      <td>3.000000</td>\n",
       "      <td>0.000000</td>\n",
       "      <td>3.000000</td>\n",
       "      <td>1.000000</td>\n",
       "      <td>1.000000</td>\n",
       "      <td>22347.000000</td>\n",
       "    </tr>\n",
       "    <tr>\n",
       "      <th>75%</th>\n",
       "      <td>203665.250000</td>\n",
       "      <td>0.000000</td>\n",
       "      <td>44.000000</td>\n",
       "      <td>3.000000</td>\n",
       "      <td>20.000000</td>\n",
       "      <td>3.000000</td>\n",
       "      <td>4.000000</td>\n",
       "      <td>4.000000</td>\n",
       "      <td>4.000000</td>\n",
       "      <td>1.000000</td>\n",
       "      <td>4.000000</td>\n",
       "      <td>1.000000</td>\n",
       "      <td>2.000000</td>\n",
       "      <td>25571.000000</td>\n",
       "    </tr>\n",
       "    <tr>\n",
       "      <th>max</th>\n",
       "      <td>204887.000000</td>\n",
       "      <td>1.000000</td>\n",
       "      <td>61.000000</td>\n",
       "      <td>3.000000</td>\n",
       "      <td>127.000000</td>\n",
       "      <td>5.000000</td>\n",
       "      <td>6.000000</td>\n",
       "      <td>5.000000</td>\n",
       "      <td>22.000000</td>\n",
       "      <td>1.000000</td>\n",
       "      <td>5.000000</td>\n",
       "      <td>1.000000</td>\n",
       "      <td>3.000000</td>\n",
       "      <td>98678.000000</td>\n",
       "    </tr>\n",
       "  </tbody>\n",
       "</table>\n",
       "</div>"
      ],
      "text/plain": [
       "          CustomerID    ProdTaken          Age     CityTier  DurationOfPitch  \\\n",
       "count    4888.000000  4888.000000  4662.000000  4888.000000      4637.000000   \n",
       "mean   202443.500000     0.188216    37.622265     1.654255        15.490835   \n",
       "std      1411.188388     0.390925     9.316387     0.916583         8.519643   \n",
       "min    200000.000000     0.000000    18.000000     1.000000         5.000000   \n",
       "25%    201221.750000     0.000000    31.000000     1.000000         9.000000   \n",
       "50%    202443.500000     0.000000    36.000000     1.000000        13.000000   \n",
       "75%    203665.250000     0.000000    44.000000     3.000000        20.000000   \n",
       "max    204887.000000     1.000000    61.000000     3.000000       127.000000   \n",
       "\n",
       "       NumberOfPersonVisiting  NumberOfFollowups  PreferredPropertyStar  \\\n",
       "count             4888.000000        4843.000000            4862.000000   \n",
       "mean                 2.905074           3.708445               3.581037   \n",
       "std                  0.724891           1.002509               0.798009   \n",
       "min                  1.000000           1.000000               3.000000   \n",
       "25%                  2.000000           3.000000               3.000000   \n",
       "50%                  3.000000           4.000000               3.000000   \n",
       "75%                  3.000000           4.000000               4.000000   \n",
       "max                  5.000000           6.000000               5.000000   \n",
       "\n",
       "       NumberOfTrips     Passport  PitchSatisfactionScore       OwnCar  \\\n",
       "count    4748.000000  4888.000000             4888.000000  4888.000000   \n",
       "mean        3.236521     0.290917                3.078151     0.620295   \n",
       "std         1.849019     0.454232                1.365792     0.485363   \n",
       "min         1.000000     0.000000                1.000000     0.000000   \n",
       "25%         2.000000     0.000000                2.000000     0.000000   \n",
       "50%         3.000000     0.000000                3.000000     1.000000   \n",
       "75%         4.000000     1.000000                4.000000     1.000000   \n",
       "max        22.000000     1.000000                5.000000     1.000000   \n",
       "\n",
       "       NumberOfChildrenVisiting  MonthlyIncome  \n",
       "count               4822.000000    4655.000000  \n",
       "mean                   1.187267   23619.853491  \n",
       "std                    0.857861    5380.698361  \n",
       "min                    0.000000    1000.000000  \n",
       "25%                    1.000000   20346.000000  \n",
       "50%                    1.000000   22347.000000  \n",
       "75%                    2.000000   25571.000000  \n",
       "max                    3.000000   98678.000000  "
      ]
     },
     "execution_count": 7,
     "metadata": {},
     "output_type": "execute_result"
    }
   ],
   "source": [
    "#Checking that the import was successful and previewing which data need to be cleaned\n",
    "tourism_data.describe()"
   ]
  },
  {
   "cell_type": "code",
   "execution_count": 8,
   "metadata": {},
   "outputs": [
    {
     "name": "stdout",
     "output_type": "stream",
     "text": [
      "<class 'pandas.core.frame.DataFrame'>\n",
      "RangeIndex: 4888 entries, 0 to 4887\n",
      "Data columns (total 20 columns):\n",
      " #   Column                    Non-Null Count  Dtype  \n",
      "---  ------                    --------------  -----  \n",
      " 0   CustomerID                4888 non-null   int64  \n",
      " 1   ProdTaken                 4888 non-null   int64  \n",
      " 2   Age                       4662 non-null   float64\n",
      " 3   TypeofContact             4863 non-null   object \n",
      " 4   CityTier                  4888 non-null   int64  \n",
      " 5   DurationOfPitch           4637 non-null   float64\n",
      " 6   Occupation                4888 non-null   object \n",
      " 7   Gender                    4888 non-null   object \n",
      " 8   NumberOfPersonVisiting    4888 non-null   int64  \n",
      " 9   NumberOfFollowups         4843 non-null   float64\n",
      " 10  ProductPitched            4888 non-null   object \n",
      " 11  PreferredPropertyStar     4862 non-null   float64\n",
      " 12  MaritalStatus             4888 non-null   object \n",
      " 13  NumberOfTrips             4748 non-null   float64\n",
      " 14  Passport                  4888 non-null   int64  \n",
      " 15  PitchSatisfactionScore    4888 non-null   int64  \n",
      " 16  OwnCar                    4888 non-null   int64  \n",
      " 17  NumberOfChildrenVisiting  4822 non-null   float64\n",
      " 18  Designation               4888 non-null   object \n",
      " 19  MonthlyIncome             4655 non-null   float64\n",
      "dtypes: float64(7), int64(7), object(6)\n",
      "memory usage: 763.9+ KB\n"
     ]
    }
   ],
   "source": [
    "tourism_data.info()"
   ]
  },
  {
   "cell_type": "code",
   "execution_count": 9,
   "metadata": {},
   "outputs": [
    {
     "data": {
      "text/html": [
       "<div>\n",
       "<style scoped>\n",
       "    .dataframe tbody tr th:only-of-type {\n",
       "        vertical-align: middle;\n",
       "    }\n",
       "\n",
       "    .dataframe tbody tr th {\n",
       "        vertical-align: top;\n",
       "    }\n",
       "\n",
       "    .dataframe thead th {\n",
       "        text-align: right;\n",
       "    }\n",
       "</style>\n",
       "<table border=\"1\" class=\"dataframe\">\n",
       "  <thead>\n",
       "    <tr style=\"text-align: right;\">\n",
       "      <th></th>\n",
       "      <th>CustomerID</th>\n",
       "      <th>ProdTaken</th>\n",
       "      <th>Age</th>\n",
       "      <th>TypeofContact</th>\n",
       "      <th>CityTier</th>\n",
       "      <th>DurationOfPitch</th>\n",
       "      <th>Occupation</th>\n",
       "      <th>Gender</th>\n",
       "      <th>NumberOfPersonVisiting</th>\n",
       "      <th>NumberOfFollowups</th>\n",
       "      <th>ProductPitched</th>\n",
       "      <th>PreferredPropertyStar</th>\n",
       "      <th>MaritalStatus</th>\n",
       "      <th>NumberOfTrips</th>\n",
       "      <th>Passport</th>\n",
       "      <th>PitchSatisfactionScore</th>\n",
       "      <th>OwnCar</th>\n",
       "      <th>NumberOfChildrenVisiting</th>\n",
       "      <th>Designation</th>\n",
       "      <th>MonthlyIncome</th>\n",
       "    </tr>\n",
       "  </thead>\n",
       "  <tbody>\n",
       "    <tr>\n",
       "      <th>0</th>\n",
       "      <td>200000</td>\n",
       "      <td>1</td>\n",
       "      <td>41.0</td>\n",
       "      <td>Self Enquiry</td>\n",
       "      <td>3</td>\n",
       "      <td>6.0</td>\n",
       "      <td>Salaried</td>\n",
       "      <td>Female</td>\n",
       "      <td>3</td>\n",
       "      <td>3.0</td>\n",
       "      <td>Deluxe</td>\n",
       "      <td>3.0</td>\n",
       "      <td>Single</td>\n",
       "      <td>1.0</td>\n",
       "      <td>1</td>\n",
       "      <td>2</td>\n",
       "      <td>1</td>\n",
       "      <td>0.0</td>\n",
       "      <td>Manager</td>\n",
       "      <td>20993.0</td>\n",
       "    </tr>\n",
       "    <tr>\n",
       "      <th>1</th>\n",
       "      <td>200001</td>\n",
       "      <td>0</td>\n",
       "      <td>49.0</td>\n",
       "      <td>Company Invited</td>\n",
       "      <td>1</td>\n",
       "      <td>14.0</td>\n",
       "      <td>Salaried</td>\n",
       "      <td>Male</td>\n",
       "      <td>3</td>\n",
       "      <td>4.0</td>\n",
       "      <td>Deluxe</td>\n",
       "      <td>4.0</td>\n",
       "      <td>Divorced</td>\n",
       "      <td>2.0</td>\n",
       "      <td>0</td>\n",
       "      <td>3</td>\n",
       "      <td>1</td>\n",
       "      <td>2.0</td>\n",
       "      <td>Manager</td>\n",
       "      <td>20130.0</td>\n",
       "    </tr>\n",
       "    <tr>\n",
       "      <th>2</th>\n",
       "      <td>200002</td>\n",
       "      <td>1</td>\n",
       "      <td>37.0</td>\n",
       "      <td>Self Enquiry</td>\n",
       "      <td>1</td>\n",
       "      <td>8.0</td>\n",
       "      <td>Free Lancer</td>\n",
       "      <td>Male</td>\n",
       "      <td>3</td>\n",
       "      <td>4.0</td>\n",
       "      <td>Basic</td>\n",
       "      <td>3.0</td>\n",
       "      <td>Single</td>\n",
       "      <td>7.0</td>\n",
       "      <td>1</td>\n",
       "      <td>3</td>\n",
       "      <td>0</td>\n",
       "      <td>0.0</td>\n",
       "      <td>Executive</td>\n",
       "      <td>17090.0</td>\n",
       "    </tr>\n",
       "    <tr>\n",
       "      <th>3</th>\n",
       "      <td>200003</td>\n",
       "      <td>0</td>\n",
       "      <td>33.0</td>\n",
       "      <td>Company Invited</td>\n",
       "      <td>1</td>\n",
       "      <td>9.0</td>\n",
       "      <td>Salaried</td>\n",
       "      <td>Female</td>\n",
       "      <td>2</td>\n",
       "      <td>3.0</td>\n",
       "      <td>Basic</td>\n",
       "      <td>3.0</td>\n",
       "      <td>Divorced</td>\n",
       "      <td>2.0</td>\n",
       "      <td>1</td>\n",
       "      <td>5</td>\n",
       "      <td>1</td>\n",
       "      <td>1.0</td>\n",
       "      <td>Executive</td>\n",
       "      <td>17909.0</td>\n",
       "    </tr>\n",
       "    <tr>\n",
       "      <th>4</th>\n",
       "      <td>200004</td>\n",
       "      <td>0</td>\n",
       "      <td>NaN</td>\n",
       "      <td>Self Enquiry</td>\n",
       "      <td>1</td>\n",
       "      <td>8.0</td>\n",
       "      <td>Small Business</td>\n",
       "      <td>Male</td>\n",
       "      <td>2</td>\n",
       "      <td>3.0</td>\n",
       "      <td>Basic</td>\n",
       "      <td>4.0</td>\n",
       "      <td>Divorced</td>\n",
       "      <td>1.0</td>\n",
       "      <td>0</td>\n",
       "      <td>5</td>\n",
       "      <td>1</td>\n",
       "      <td>0.0</td>\n",
       "      <td>Executive</td>\n",
       "      <td>18468.0</td>\n",
       "    </tr>\n",
       "  </tbody>\n",
       "</table>\n",
       "</div>"
      ],
      "text/plain": [
       "   CustomerID  ProdTaken   Age    TypeofContact  CityTier  DurationOfPitch  \\\n",
       "0      200000          1  41.0     Self Enquiry         3              6.0   \n",
       "1      200001          0  49.0  Company Invited         1             14.0   \n",
       "2      200002          1  37.0     Self Enquiry         1              8.0   \n",
       "3      200003          0  33.0  Company Invited         1              9.0   \n",
       "4      200004          0   NaN     Self Enquiry         1              8.0   \n",
       "\n",
       "       Occupation  Gender  NumberOfPersonVisiting  NumberOfFollowups  \\\n",
       "0        Salaried  Female                       3                3.0   \n",
       "1        Salaried    Male                       3                4.0   \n",
       "2     Free Lancer    Male                       3                4.0   \n",
       "3        Salaried  Female                       2                3.0   \n",
       "4  Small Business    Male                       2                3.0   \n",
       "\n",
       "  ProductPitched  PreferredPropertyStar MaritalStatus  NumberOfTrips  \\\n",
       "0         Deluxe                    3.0        Single            1.0   \n",
       "1         Deluxe                    4.0      Divorced            2.0   \n",
       "2          Basic                    3.0        Single            7.0   \n",
       "3          Basic                    3.0      Divorced            2.0   \n",
       "4          Basic                    4.0      Divorced            1.0   \n",
       "\n",
       "   Passport  PitchSatisfactionScore  OwnCar  NumberOfChildrenVisiting  \\\n",
       "0         1                       2       1                       0.0   \n",
       "1         0                       3       1                       2.0   \n",
       "2         1                       3       0                       0.0   \n",
       "3         1                       5       1                       1.0   \n",
       "4         0                       5       1                       0.0   \n",
       "\n",
       "  Designation  MonthlyIncome  \n",
       "0     Manager        20993.0  \n",
       "1     Manager        20130.0  \n",
       "2   Executive        17090.0  \n",
       "3   Executive        17909.0  \n",
       "4   Executive        18468.0  "
      ]
     },
     "execution_count": 9,
     "metadata": {},
     "output_type": "execute_result"
    }
   ],
   "source": [
    "tourism_data.head()"
   ]
  },
  {
   "cell_type": "code",
   "execution_count": 10,
   "metadata": {},
   "outputs": [],
   "source": [
    "#The ProdTaken column is the one we are trying to predict using the binary classifier models \n",
    "# Age, DurationOfPitch, NumberOfFollowups, PreferredPropertyStar, NumberOfTrips, \n",
    "# NumberOfChildrenVisiting, MonthlyIncome\n",
    "#Dropping two columns from the dataframe\n",
    "\n",
    "#Firstly, customer id is an unhelpful index (not helpful for prediction)\n",
    "tourism_data.drop(columns=['CustomerID'], inplace=True)"
   ]
  },
  {
   "cell_type": "code",
   "execution_count": 11,
   "metadata": {},
   "outputs": [
    {
     "name": "stdout",
     "output_type": "stream",
     "text": [
      "['Age', 'TypeofContact', 'CityTier', 'DurationOfPitch', 'Occupation', 'Gender', 'NumberOfPersonVisiting', 'NumberOfFollowups', 'ProductPitched', 'PreferredPropertyStar', 'MaritalStatus', 'NumberOfTrips', 'Passport', 'PitchSatisfactionScore', 'OwnCar', 'NumberOfChildrenVisiting', 'Designation', 'MonthlyIncome']\n"
     ]
    }
   ],
   "source": [
    "#Pull all columns excetp the response \n",
    "tourism_cols = tourism_data.columns.tolist()\n",
    "tourism_cols.remove('ProdTaken')\n",
    "print(tourism_cols)"
   ]
  },
  {
   "cell_type": "code",
   "execution_count": 12,
   "metadata": {},
   "outputs": [],
   "source": [
    "#remove the ones that are nan\n",
    "copy_tourism_data = tourism_data.dropna()"
   ]
  },
  {
   "cell_type": "code",
   "execution_count": 13,
   "metadata": {},
   "outputs": [],
   "source": [
    "#Divide using train test split\n",
    "y = copy_tourism_data[\"ProdTaken\"]\n",
    "X = copy_tourism_data[tourism_cols]#independent variables\n",
    "X_train, X_val, y_train, y_val= train_test_split(X, y, random_state = 0)"
   ]
  },
  {
   "cell_type": "code",
   "execution_count": 14,
   "metadata": {},
   "outputs": [
    {
     "name": "stdout",
     "output_type": "stream",
     "text": [
      "Categorical variables:\n",
      "['TypeofContact', 'Occupation', 'Gender', 'ProductPitched', 'MaritalStatus', 'Designation']\n"
     ]
    }
   ],
   "source": [
    "# Get list of categorical variables\n",
    "#https://www.kaggle.com/alexisbcook/categorical-variables\n",
    "s = (X_train.dtypes == 'object')\n",
    "object_cols = list(s[s].index)\n",
    "\n",
    "print(\"Categorical variables:\")\n",
    "print(object_cols)"
   ]
  },
  {
   "cell_type": "code",
   "execution_count": 15,
   "metadata": {},
   "outputs": [],
   "source": [
    "#Next Use One-Hot encoder to turn categorical columns into encoded values\n",
    "\n",
    "# Apply one-hot encoder to each column with categorical data\n",
    "OH_encoder = OneHotEncoder(handle_unknown='ignore', sparse=False)\n",
    "OH_cols_train = pd.DataFrame(OH_encoder.fit_transform(X_train[object_cols]))\n",
    "OH_cols_valid = pd.DataFrame(OH_encoder.transform(X_val[object_cols]))\n",
    "\n",
    "# One-hot encoding removed index; put it back\n",
    "OH_cols_train.index = X_train.index\n",
    "OH_cols_valid.index = X_val.index\n",
    "\n",
    "# Remove categorical columns (will replace with one-hot encoding)\n",
    "num_X_train = X_train.drop(object_cols, axis=1)\n",
    "num_X_valid = X_val.drop(object_cols, axis=1)\n",
    "\n",
    "# Add one-hot encoded columns to numerical features\n",
    "OH_X_train = pd.concat([num_X_train, OH_cols_train], axis=1)\n",
    "OH_X_valid = pd.concat([num_X_valid, OH_cols_valid], axis=1)"
   ]
  },
  {
   "cell_type": "code",
   "execution_count": 16,
   "metadata": {},
   "outputs": [
    {
     "data": {
      "image/png": "[encoded data removed]",
      "text/plain": [
       "<Figure size 864x2160 with 28 Axes>"
      ]
     },
     "metadata": {
      "needs_background": "light"
     },
     "output_type": "display_data"
    }
   ],
   "source": [
    "#Visualize the distributions of all data\n",
    "tourism_data.hist(stacked=False, bins=100, figsize=(12,30), layout=(14,2));"
   ]
  },
  {
   "cell_type": "code",
   "execution_count": 17,
   "metadata": {},
   "outputs": [],
   "source": [
    "#Looking For Correlations to See what might be useful to test\n",
    "# However we want to see correlation in graphical representation so below is function for that\n",
    "import numpy as np\n",
    "def plot_corr(df, size=11):\n",
    "    corr = df.corr()\n",
    "    fig, ax = plt.subplots(figsize=(size, size))\n",
    "    ax.matshow(corr)\n",
    "    plt.xticks(range(len(corr.columns)), corr.columns)\n",
    "    plt.yticks(range(len(corr.columns)), corr.columns)\n",
    "    for (i, j), z in np.ndenumerate(corr):\n",
    "        ax.text(j, i, '{:0.1f}'.format(z), ha='center', va='center')"
   ]
  },
  {
   "cell_type": "code",
   "execution_count": 18,
   "metadata": {},
   "outputs": [
    {
     "data": {
      "image/png": "[encoded data removed]",
      "text/plain": [
       "<Figure size 792x792 with 1 Axes>"
      ]
     },
     "metadata": {
      "needs_background": "light"
     },
     "output_type": "display_data"
    }
   ],
   "source": [
    "plot_corr(tourism_data)"
   ]
  },
  {
   "cell_type": "code",
   "execution_count": 19,
   "metadata": {},
   "outputs": [
    {
     "name": "stdout",
     "output_type": "stream",
     "text": [
      "Outliers fall below:\n",
      "[-7.5, -1.0, 12508.5]\n",
      "Outliers extend above:\n",
      "[36.5, 7.0, 33408.5]\n",
      "['DurationOfPitch', 'NumberOfTrips', 'MonthlyIncome']\n"
     ]
    }
   ],
   "source": [
    "#Scrub Duration of Pitch, Number of Trips, MonthlyIncome of Outliers\n",
    "#Outlier Cutoffs\n",
    "#It is more useful to visualize and generate regresion from KM_Driven that does not contain outliers\n",
    "quantitative=['DurationOfPitch','NumberOfTrips','MonthlyIncome']\n",
    "seventy_fifth=[20.000000, \t4.000000, 25571.000000]\n",
    "twenty_fifth=[9.000000, 2.000000, 20346.000000]\n",
    "cutoffs, upperco, lowerco =[],[],[]\n",
    "for i in range(len(seventy_fifth)): cutoffs.append( (seventy_fifth[i] - twenty_fifth[i])*1.5 ) \n",
    "for i in range(len(seventy_fifth)): upperco.append( seventy_fifth[i] + cutoffs[i] ) \n",
    "for i in range(len(seventy_fifth)): lowerco.append( twenty_fifth[i] - cutoffs[i] ) \n",
    "\n",
    "print(\"Outliers fall below:\")\n",
    "\n",
    "print(lowerco)\n",
    "print(\"Outliers extend above:\")\n",
    "print(upperco)\n",
    "\n",
    "print(quantitative)\n",
    "#you will see that though it doesn't make sense to cal outlier by S.No \n",
    "#outliers exist for Year, Kilometers Driven, Seats and Price "
   ]
  },
  {
   "cell_type": "code",
   "execution_count": 20,
   "metadata": {},
   "outputs": [],
   "source": [
    "#Using Appended concatinated set for the analyses\n",
    "y_train.append(y_val)\n",
    "OH_X_train.append(OH_X_valid)#'OH_' if one hot categoricals\n",
    "clean_tourism_data = pd.concat([y_train,OH_X_train], axis=1)#same as above"
   ]
  },
  {
   "cell_type": "code",
   "execution_count": 21,
   "metadata": {},
   "outputs": [],
   "source": [
    "wout_MI_outliers, MI_outlieres =  [x for _, x in clean_tourism_data.groupby(tourism_data['MonthlyIncome'] < 12508.5)]\n",
    "wout_MI_outliers, MI_outlieres =  [x for _, x in wout_MI_outliers.groupby(wout_MI_outliers['MonthlyIncome'] > 33408.5)]\n",
    "wout_NT_outliers, NT_outlieres =  [x for _, x in wout_MI_outliers.groupby(wout_MI_outliers['NumberOfTrips'] > 7 )]\n",
    "wout_DoP_outliers, DoP_outlieres =  [x for _, x in wout_NT_outliers.groupby(wout_NT_outliers['DurationOfPitch'] > 36.5 )]"
   ]
  },
  {
   "cell_type": "code",
   "execution_count": 22,
   "metadata": {},
   "outputs": [],
   "source": [
    "#__________DATA CLEANED, SPLIT BY RESPONSE\n",
    "df_prodtaken_y, df_prodtaken_n = [x for _, x in wout_DoP_outliers.groupby(wout_DoP_outliers['ProdTaken'] == 0)]"
   ]
  },
  {
   "cell_type": "code",
   "execution_count": 23,
   "metadata": {},
   "outputs": [
    {
     "data": {
      "text/html": [
       "<div>\n",
       "<style scoped>\n",
       "    .dataframe tbody tr th:only-of-type {\n",
       "        vertical-align: middle;\n",
       "    }\n",
       "\n",
       "    .dataframe tbody tr th {\n",
       "        vertical-align: top;\n",
       "    }\n",
       "\n",
       "    .dataframe thead th {\n",
       "        text-align: right;\n",
       "    }\n",
       "</style>\n",
       "<table border=\"1\" class=\"dataframe\">\n",
       "  <thead>\n",
       "    <tr style=\"text-align: right;\">\n",
       "      <th></th>\n",
       "      <th>ProdTaken</th>\n",
       "      <th>Age</th>\n",
       "      <th>CityTier</th>\n",
       "      <th>DurationOfPitch</th>\n",
       "      <th>NumberOfPersonVisiting</th>\n",
       "      <th>NumberOfFollowups</th>\n",
       "      <th>PreferredPropertyStar</th>\n",
       "      <th>NumberOfTrips</th>\n",
       "      <th>Passport</th>\n",
       "      <th>PitchSatisfactionScore</th>\n",
       "      <th>...</th>\n",
       "      <th>13</th>\n",
       "      <th>14</th>\n",
       "      <th>15</th>\n",
       "      <th>16</th>\n",
       "      <th>17</th>\n",
       "      <th>18</th>\n",
       "      <th>19</th>\n",
       "      <th>20</th>\n",
       "      <th>21</th>\n",
       "      <th>22</th>\n",
       "    </tr>\n",
       "  </thead>\n",
       "  <tbody>\n",
       "    <tr>\n",
       "      <th>count</th>\n",
       "      <td>557.0</td>\n",
       "      <td>557.000000</td>\n",
       "      <td>557.000000</td>\n",
       "      <td>557.000000</td>\n",
       "      <td>557.000000</td>\n",
       "      <td>557.000000</td>\n",
       "      <td>557.000000</td>\n",
       "      <td>557.000000</td>\n",
       "      <td>557.000000</td>\n",
       "      <td>557.000000</td>\n",
       "      <td>...</td>\n",
       "      <td>557.000000</td>\n",
       "      <td>557.000000</td>\n",
       "      <td>557.000000</td>\n",
       "      <td>557.000000</td>\n",
       "      <td>557.000000</td>\n",
       "      <td>557.000000</td>\n",
       "      <td>557.000000</td>\n",
       "      <td>557.000000</td>\n",
       "      <td>557.000000</td>\n",
       "      <td>557.000000</td>\n",
       "    </tr>\n",
       "    <tr>\n",
       "      <th>mean</th>\n",
       "      <td>1.0</td>\n",
       "      <td>34.147217</td>\n",
       "      <td>1.834829</td>\n",
       "      <td>17.418312</td>\n",
       "      <td>2.933573</td>\n",
       "      <td>3.938959</td>\n",
       "      <td>3.761221</td>\n",
       "      <td>3.154399</td>\n",
       "      <td>0.549372</td>\n",
       "      <td>3.238779</td>\n",
       "      <td>...</td>\n",
       "      <td>0.017953</td>\n",
       "      <td>0.131059</td>\n",
       "      <td>0.350090</td>\n",
       "      <td>0.310592</td>\n",
       "      <td>0.208259</td>\n",
       "      <td>0.017953</td>\n",
       "      <td>0.606822</td>\n",
       "      <td>0.215440</td>\n",
       "      <td>0.157989</td>\n",
       "      <td>0.001795</td>\n",
       "    </tr>\n",
       "    <tr>\n",
       "      <th>std</th>\n",
       "      <td>0.0</td>\n",
       "      <td>9.912379</td>\n",
       "      <td>0.960370</td>\n",
       "      <td>8.568968</td>\n",
       "      <td>0.705250</td>\n",
       "      <td>0.976269</td>\n",
       "      <td>0.860026</td>\n",
       "      <td>1.704164</td>\n",
       "      <td>0.498004</td>\n",
       "      <td>1.340596</td>\n",
       "      <td>...</td>\n",
       "      <td>0.132901</td>\n",
       "      <td>0.337768</td>\n",
       "      <td>0.477427</td>\n",
       "      <td>0.463152</td>\n",
       "      <td>0.406428</td>\n",
       "      <td>0.132901</td>\n",
       "      <td>0.488895</td>\n",
       "      <td>0.411497</td>\n",
       "      <td>0.365059</td>\n",
       "      <td>0.042371</td>\n",
       "    </tr>\n",
       "    <tr>\n",
       "      <th>min</th>\n",
       "      <td>1.0</td>\n",
       "      <td>18.000000</td>\n",
       "      <td>1.000000</td>\n",
       "      <td>6.000000</td>\n",
       "      <td>2.000000</td>\n",
       "      <td>1.000000</td>\n",
       "      <td>3.000000</td>\n",
       "      <td>1.000000</td>\n",
       "      <td>0.000000</td>\n",
       "      <td>1.000000</td>\n",
       "      <td>...</td>\n",
       "      <td>0.000000</td>\n",
       "      <td>0.000000</td>\n",
       "      <td>0.000000</td>\n",
       "      <td>0.000000</td>\n",
       "      <td>0.000000</td>\n",
       "      <td>0.000000</td>\n",
       "      <td>0.000000</td>\n",
       "      <td>0.000000</td>\n",
       "      <td>0.000000</td>\n",
       "      <td>0.000000</td>\n",
       "    </tr>\n",
       "    <tr>\n",
       "      <th>25%</th>\n",
       "      <td>1.0</td>\n",
       "      <td>27.000000</td>\n",
       "      <td>1.000000</td>\n",
       "      <td>10.000000</td>\n",
       "      <td>2.000000</td>\n",
       "      <td>3.000000</td>\n",
       "      <td>3.000000</td>\n",
       "      <td>2.000000</td>\n",
       "      <td>0.000000</td>\n",
       "      <td>2.000000</td>\n",
       "      <td>...</td>\n",
       "      <td>0.000000</td>\n",
       "      <td>0.000000</td>\n",
       "      <td>0.000000</td>\n",
       "      <td>0.000000</td>\n",
       "      <td>0.000000</td>\n",
       "      <td>0.000000</td>\n",
       "      <td>0.000000</td>\n",
       "      <td>0.000000</td>\n",
       "      <td>0.000000</td>\n",
       "      <td>0.000000</td>\n",
       "    </tr>\n",
       "    <tr>\n",
       "      <th>50%</th>\n",
       "      <td>1.0</td>\n",
       "      <td>32.000000</td>\n",
       "      <td>1.000000</td>\n",
       "      <td>15.000000</td>\n",
       "      <td>3.000000</td>\n",
       "      <td>4.000000</td>\n",
       "      <td>3.000000</td>\n",
       "      <td>3.000000</td>\n",
       "      <td>1.000000</td>\n",
       "      <td>3.000000</td>\n",
       "      <td>...</td>\n",
       "      <td>0.000000</td>\n",
       "      <td>0.000000</td>\n",
       "      <td>0.000000</td>\n",
       "      <td>0.000000</td>\n",
       "      <td>0.000000</td>\n",
       "      <td>0.000000</td>\n",
       "      <td>1.000000</td>\n",
       "      <td>0.000000</td>\n",
       "      <td>0.000000</td>\n",
       "      <td>0.000000</td>\n",
       "    </tr>\n",
       "    <tr>\n",
       "      <th>75%</th>\n",
       "      <td>1.0</td>\n",
       "      <td>40.000000</td>\n",
       "      <td>3.000000</td>\n",
       "      <td>24.000000</td>\n",
       "      <td>3.000000</td>\n",
       "      <td>5.000000</td>\n",
       "      <td>5.000000</td>\n",
       "      <td>4.000000</td>\n",
       "      <td>1.000000</td>\n",
       "      <td>4.000000</td>\n",
       "      <td>...</td>\n",
       "      <td>0.000000</td>\n",
       "      <td>0.000000</td>\n",
       "      <td>1.000000</td>\n",
       "      <td>1.000000</td>\n",
       "      <td>0.000000</td>\n",
       "      <td>0.000000</td>\n",
       "      <td>1.000000</td>\n",
       "      <td>0.000000</td>\n",
       "      <td>0.000000</td>\n",
       "      <td>0.000000</td>\n",
       "    </tr>\n",
       "    <tr>\n",
       "      <th>max</th>\n",
       "      <td>1.0</td>\n",
       "      <td>59.000000</td>\n",
       "      <td>3.000000</td>\n",
       "      <td>36.000000</td>\n",
       "      <td>4.000000</td>\n",
       "      <td>6.000000</td>\n",
       "      <td>5.000000</td>\n",
       "      <td>7.000000</td>\n",
       "      <td>1.000000</td>\n",
       "      <td>5.000000</td>\n",
       "      <td>...</td>\n",
       "      <td>1.000000</td>\n",
       "      <td>1.000000</td>\n",
       "      <td>1.000000</td>\n",
       "      <td>1.000000</td>\n",
       "      <td>1.000000</td>\n",
       "      <td>1.000000</td>\n",
       "      <td>1.000000</td>\n",
       "      <td>1.000000</td>\n",
       "      <td>1.000000</td>\n",
       "      <td>1.000000</td>\n",
       "    </tr>\n",
       "  </tbody>\n",
       "</table>\n",
       "<p>8 rows × 36 columns</p>\n",
       "</div>"
      ],
      "text/plain": [
       "       ProdTaken         Age    CityTier  DurationOfPitch  \\\n",
       "count      557.0  557.000000  557.000000       557.000000   \n",
       "mean         1.0   34.147217    1.834829        17.418312   \n",
       "std          0.0    9.912379    0.960370         8.568968   \n",
       "min          1.0   18.000000    1.000000         6.000000   \n",
       "25%          1.0   27.000000    1.000000        10.000000   \n",
       "50%          1.0   32.000000    1.000000        15.000000   \n",
       "75%          1.0   40.000000    3.000000        24.000000   \n",
       "max          1.0   59.000000    3.000000        36.000000   \n",
       "\n",
       "       NumberOfPersonVisiting  NumberOfFollowups  PreferredPropertyStar  \\\n",
       "count              557.000000         557.000000             557.000000   \n",
       "mean                 2.933573           3.938959               3.761221   \n",
       "std                  0.705250           0.976269               0.860026   \n",
       "min                  2.000000           1.000000               3.000000   \n",
       "25%                  2.000000           3.000000               3.000000   \n",
       "50%                  3.000000           4.000000               3.000000   \n",
       "75%                  3.000000           5.000000               5.000000   \n",
       "max                  4.000000           6.000000               5.000000   \n",
       "\n",
       "       NumberOfTrips    Passport  PitchSatisfactionScore  ...          13  \\\n",
       "count     557.000000  557.000000              557.000000  ...  557.000000   \n",
       "mean        3.154399    0.549372                3.238779  ...    0.017953   \n",
       "std         1.704164    0.498004                1.340596  ...    0.132901   \n",
       "min         1.000000    0.000000                1.000000  ...    0.000000   \n",
       "25%         2.000000    0.000000                2.000000  ...    0.000000   \n",
       "50%         3.000000    1.000000                3.000000  ...    0.000000   \n",
       "75%         4.000000    1.000000                4.000000  ...    0.000000   \n",
       "max         7.000000    1.000000                5.000000  ...    1.000000   \n",
       "\n",
       "               14          15          16          17          18          19  \\\n",
       "count  557.000000  557.000000  557.000000  557.000000  557.000000  557.000000   \n",
       "mean     0.131059    0.350090    0.310592    0.208259    0.017953    0.606822   \n",
       "std      0.337768    0.477427    0.463152    0.406428    0.132901    0.488895   \n",
       "min      0.000000    0.000000    0.000000    0.000000    0.000000    0.000000   \n",
       "25%      0.000000    0.000000    0.000000    0.000000    0.000000    0.000000   \n",
       "50%      0.000000    0.000000    0.000000    0.000000    0.000000    1.000000   \n",
       "75%      0.000000    1.000000    1.000000    0.000000    0.000000    1.000000   \n",
       "max      1.000000    1.000000    1.000000    1.000000    1.000000    1.000000   \n",
       "\n",
       "               20          21          22  \n",
       "count  557.000000  557.000000  557.000000  \n",
       "mean     0.215440    0.157989    0.001795  \n",
       "std      0.411497    0.365059    0.042371  \n",
       "min      0.000000    0.000000    0.000000  \n",
       "25%      0.000000    0.000000    0.000000  \n",
       "50%      0.000000    0.000000    0.000000  \n",
       "75%      0.000000    0.000000    0.000000  \n",
       "max      1.000000    1.000000    1.000000  \n",
       "\n",
       "[8 rows x 36 columns]"
      ]
     },
     "execution_count": 23,
     "metadata": {},
     "output_type": "execute_result"
    }
   ],
   "source": [
    "df_prodtaken_y.describe()"
   ]
  },
  {
   "cell_type": "code",
   "execution_count": 24,
   "metadata": {},
   "outputs": [
    {
     "data": {
      "text/html": [
       "<div>\n",
       "<style scoped>\n",
       "    .dataframe tbody tr th:only-of-type {\n",
       "        vertical-align: middle;\n",
       "    }\n",
       "\n",
       "    .dataframe tbody tr th {\n",
       "        vertical-align: top;\n",
       "    }\n",
       "\n",
       "    .dataframe thead th {\n",
       "        text-align: right;\n",
       "    }\n",
       "</style>\n",
       "<table border=\"1\" class=\"dataframe\">\n",
       "  <thead>\n",
       "    <tr style=\"text-align: right;\">\n",
       "      <th></th>\n",
       "      <th>ProdTaken</th>\n",
       "      <th>Age</th>\n",
       "      <th>CityTier</th>\n",
       "      <th>DurationOfPitch</th>\n",
       "      <th>NumberOfPersonVisiting</th>\n",
       "      <th>NumberOfFollowups</th>\n",
       "      <th>PreferredPropertyStar</th>\n",
       "      <th>NumberOfTrips</th>\n",
       "      <th>Passport</th>\n",
       "      <th>PitchSatisfactionScore</th>\n",
       "      <th>...</th>\n",
       "      <th>13</th>\n",
       "      <th>14</th>\n",
       "      <th>15</th>\n",
       "      <th>16</th>\n",
       "      <th>17</th>\n",
       "      <th>18</th>\n",
       "      <th>19</th>\n",
       "      <th>20</th>\n",
       "      <th>21</th>\n",
       "      <th>22</th>\n",
       "    </tr>\n",
       "  </thead>\n",
       "  <tbody>\n",
       "    <tr>\n",
       "      <th>count</th>\n",
       "      <td>2370.0</td>\n",
       "      <td>2370.000000</td>\n",
       "      <td>2370.000000</td>\n",
       "      <td>2370.000000</td>\n",
       "      <td>2370.000000</td>\n",
       "      <td>2370.000000</td>\n",
       "      <td>2370.000000</td>\n",
       "      <td>2370.000000</td>\n",
       "      <td>2370.000000</td>\n",
       "      <td>2370.000000</td>\n",
       "      <td>...</td>\n",
       "      <td>2370.000000</td>\n",
       "      <td>2370.000000</td>\n",
       "      <td>2370.000000</td>\n",
       "      <td>2370.000000</td>\n",
       "      <td>2370.000000</td>\n",
       "      <td>2370.000000</td>\n",
       "      <td>2370.000000</td>\n",
       "      <td>2370.000000</td>\n",
       "      <td>2370.000000</td>\n",
       "      <td>2370.000000</td>\n",
       "    </tr>\n",
       "    <tr>\n",
       "      <th>mean</th>\n",
       "      <td>0.0</td>\n",
       "      <td>37.600000</td>\n",
       "      <td>1.629114</td>\n",
       "      <td>15.335865</td>\n",
       "      <td>2.954430</td>\n",
       "      <td>3.691561</td>\n",
       "      <td>3.530802</td>\n",
       "      <td>3.173418</td>\n",
       "      <td>0.236709</td>\n",
       "      <td>3.007595</td>\n",
       "      <td>...</td>\n",
       "      <td>0.066245</td>\n",
       "      <td>0.206329</td>\n",
       "      <td>0.504641</td>\n",
       "      <td>0.129958</td>\n",
       "      <td>0.159072</td>\n",
       "      <td>0.066245</td>\n",
       "      <td>0.341350</td>\n",
       "      <td>0.397046</td>\n",
       "      <td>0.191139</td>\n",
       "      <td>0.004219</td>\n",
       "    </tr>\n",
       "    <tr>\n",
       "      <th>std</th>\n",
       "      <td>0.0</td>\n",
       "      <td>8.714621</td>\n",
       "      <td>0.911210</td>\n",
       "      <td>8.231370</td>\n",
       "      <td>0.726127</td>\n",
       "      <td>0.987796</td>\n",
       "      <td>0.768263</td>\n",
       "      <td>1.590618</td>\n",
       "      <td>0.425152</td>\n",
       "      <td>1.352243</td>\n",
       "      <td>...</td>\n",
       "      <td>0.248762</td>\n",
       "      <td>0.404755</td>\n",
       "      <td>0.500084</td>\n",
       "      <td>0.336328</td>\n",
       "      <td>0.365820</td>\n",
       "      <td>0.248762</td>\n",
       "      <td>0.474263</td>\n",
       "      <td>0.489389</td>\n",
       "      <td>0.393281</td>\n",
       "      <td>0.064833</td>\n",
       "    </tr>\n",
       "    <tr>\n",
       "      <th>min</th>\n",
       "      <td>0.0</td>\n",
       "      <td>18.000000</td>\n",
       "      <td>1.000000</td>\n",
       "      <td>5.000000</td>\n",
       "      <td>1.000000</td>\n",
       "      <td>1.000000</td>\n",
       "      <td>3.000000</td>\n",
       "      <td>1.000000</td>\n",
       "      <td>0.000000</td>\n",
       "      <td>1.000000</td>\n",
       "      <td>...</td>\n",
       "      <td>0.000000</td>\n",
       "      <td>0.000000</td>\n",
       "      <td>0.000000</td>\n",
       "      <td>0.000000</td>\n",
       "      <td>0.000000</td>\n",
       "      <td>0.000000</td>\n",
       "      <td>0.000000</td>\n",
       "      <td>0.000000</td>\n",
       "      <td>0.000000</td>\n",
       "      <td>0.000000</td>\n",
       "    </tr>\n",
       "    <tr>\n",
       "      <th>25%</th>\n",
       "      <td>0.0</td>\n",
       "      <td>31.000000</td>\n",
       "      <td>1.000000</td>\n",
       "      <td>9.000000</td>\n",
       "      <td>2.000000</td>\n",
       "      <td>3.000000</td>\n",
       "      <td>3.000000</td>\n",
       "      <td>2.000000</td>\n",
       "      <td>0.000000</td>\n",
       "      <td>2.000000</td>\n",
       "      <td>...</td>\n",
       "      <td>0.000000</td>\n",
       "      <td>0.000000</td>\n",
       "      <td>0.000000</td>\n",
       "      <td>0.000000</td>\n",
       "      <td>0.000000</td>\n",
       "      <td>0.000000</td>\n",
       "      <td>0.000000</td>\n",
       "      <td>0.000000</td>\n",
       "      <td>0.000000</td>\n",
       "      <td>0.000000</td>\n",
       "    </tr>\n",
       "    <tr>\n",
       "      <th>50%</th>\n",
       "      <td>0.0</td>\n",
       "      <td>36.000000</td>\n",
       "      <td>1.000000</td>\n",
       "      <td>13.000000</td>\n",
       "      <td>3.000000</td>\n",
       "      <td>4.000000</td>\n",
       "      <td>3.000000</td>\n",
       "      <td>3.000000</td>\n",
       "      <td>0.000000</td>\n",
       "      <td>3.000000</td>\n",
       "      <td>...</td>\n",
       "      <td>0.000000</td>\n",
       "      <td>0.000000</td>\n",
       "      <td>1.000000</td>\n",
       "      <td>0.000000</td>\n",
       "      <td>0.000000</td>\n",
       "      <td>0.000000</td>\n",
       "      <td>0.000000</td>\n",
       "      <td>0.000000</td>\n",
       "      <td>0.000000</td>\n",
       "      <td>0.000000</td>\n",
       "    </tr>\n",
       "    <tr>\n",
       "      <th>75%</th>\n",
       "      <td>0.0</td>\n",
       "      <td>43.000000</td>\n",
       "      <td>3.000000</td>\n",
       "      <td>19.000000</td>\n",
       "      <td>3.000000</td>\n",
       "      <td>4.000000</td>\n",
       "      <td>4.000000</td>\n",
       "      <td>4.000000</td>\n",
       "      <td>0.000000</td>\n",
       "      <td>4.000000</td>\n",
       "      <td>...</td>\n",
       "      <td>0.000000</td>\n",
       "      <td>0.000000</td>\n",
       "      <td>1.000000</td>\n",
       "      <td>0.000000</td>\n",
       "      <td>0.000000</td>\n",
       "      <td>0.000000</td>\n",
       "      <td>1.000000</td>\n",
       "      <td>1.000000</td>\n",
       "      <td>0.000000</td>\n",
       "      <td>0.000000</td>\n",
       "    </tr>\n",
       "    <tr>\n",
       "      <th>max</th>\n",
       "      <td>0.0</td>\n",
       "      <td>61.000000</td>\n",
       "      <td>3.000000</td>\n",
       "      <td>36.000000</td>\n",
       "      <td>5.000000</td>\n",
       "      <td>6.000000</td>\n",
       "      <td>5.000000</td>\n",
       "      <td>7.000000</td>\n",
       "      <td>1.000000</td>\n",
       "      <td>5.000000</td>\n",
       "      <td>...</td>\n",
       "      <td>1.000000</td>\n",
       "      <td>1.000000</td>\n",
       "      <td>1.000000</td>\n",
       "      <td>1.000000</td>\n",
       "      <td>1.000000</td>\n",
       "      <td>1.000000</td>\n",
       "      <td>1.000000</td>\n",
       "      <td>1.000000</td>\n",
       "      <td>1.000000</td>\n",
       "      <td>1.000000</td>\n",
       "    </tr>\n",
       "  </tbody>\n",
       "</table>\n",
       "<p>8 rows × 36 columns</p>\n",
       "</div>"
      ],
      "text/plain": [
       "       ProdTaken          Age     CityTier  DurationOfPitch  \\\n",
       "count     2370.0  2370.000000  2370.000000      2370.000000   \n",
       "mean         0.0    37.600000     1.629114        15.335865   \n",
       "std          0.0     8.714621     0.911210         8.231370   \n",
       "min          0.0    18.000000     1.000000         5.000000   \n",
       "25%          0.0    31.000000     1.000000         9.000000   \n",
       "50%          0.0    36.000000     1.000000        13.000000   \n",
       "75%          0.0    43.000000     3.000000        19.000000   \n",
       "max          0.0    61.000000     3.000000        36.000000   \n",
       "\n",
       "       NumberOfPersonVisiting  NumberOfFollowups  PreferredPropertyStar  \\\n",
       "count             2370.000000        2370.000000            2370.000000   \n",
       "mean                 2.954430           3.691561               3.530802   \n",
       "std                  0.726127           0.987796               0.768263   \n",
       "min                  1.000000           1.000000               3.000000   \n",
       "25%                  2.000000           3.000000               3.000000   \n",
       "50%                  3.000000           4.000000               3.000000   \n",
       "75%                  3.000000           4.000000               4.000000   \n",
       "max                  5.000000           6.000000               5.000000   \n",
       "\n",
       "       NumberOfTrips     Passport  PitchSatisfactionScore  ...           13  \\\n",
       "count    2370.000000  2370.000000             2370.000000  ...  2370.000000   \n",
       "mean        3.173418     0.236709                3.007595  ...     0.066245   \n",
       "std         1.590618     0.425152                1.352243  ...     0.248762   \n",
       "min         1.000000     0.000000                1.000000  ...     0.000000   \n",
       "25%         2.000000     0.000000                2.000000  ...     0.000000   \n",
       "50%         3.000000     0.000000                3.000000  ...     0.000000   \n",
       "75%         4.000000     0.000000                4.000000  ...     0.000000   \n",
       "max         7.000000     1.000000                5.000000  ...     1.000000   \n",
       "\n",
       "                14           15           16           17           18  \\\n",
       "count  2370.000000  2370.000000  2370.000000  2370.000000  2370.000000   \n",
       "mean      0.206329     0.504641     0.129958     0.159072     0.066245   \n",
       "std       0.404755     0.500084     0.336328     0.365820     0.248762   \n",
       "min       0.000000     0.000000     0.000000     0.000000     0.000000   \n",
       "25%       0.000000     0.000000     0.000000     0.000000     0.000000   \n",
       "50%       0.000000     1.000000     0.000000     0.000000     0.000000   \n",
       "75%       0.000000     1.000000     0.000000     0.000000     0.000000   \n",
       "max       1.000000     1.000000     1.000000     1.000000     1.000000   \n",
       "\n",
       "                19           20           21           22  \n",
       "count  2370.000000  2370.000000  2370.000000  2370.000000  \n",
       "mean      0.341350     0.397046     0.191139     0.004219  \n",
       "std       0.474263     0.489389     0.393281     0.064833  \n",
       "min       0.000000     0.000000     0.000000     0.000000  \n",
       "25%       0.000000     0.000000     0.000000     0.000000  \n",
       "50%       0.000000     0.000000     0.000000     0.000000  \n",
       "75%       1.000000     1.000000     0.000000     0.000000  \n",
       "max       1.000000     1.000000     1.000000     1.000000  \n",
       "\n",
       "[8 rows x 36 columns]"
      ]
     },
     "execution_count": 24,
     "metadata": {},
     "output_type": "execute_result"
    }
   ],
   "source": [
    "df_prodtaken_n.describe()"
   ]
  },
  {
   "cell_type": "code",
   "execution_count": 25,
   "metadata": {},
   "outputs": [
    {
     "data": {
      "text/plain": [
       "<matplotlib.axes._subplots.AxesSubplot at 0x12110e08608>"
      ]
     },
     "execution_count": 25,
     "metadata": {},
     "output_type": "execute_result"
    },
    {
     "data": {
      "image/png": "[encoded data removed]",
      "text/plain": [
       "<Figure size 432x288 with 1 Axes>"
      ]
     },
     "metadata": {
      "needs_background": "light"
     },
     "output_type": "display_data"
    }
   ],
   "source": [
    "#Age\n",
    "sns.histplot(df_prodtaken_y['Age'], kde=True, color='green')"
   ]
  },
  {
   "cell_type": "code",
   "execution_count": 26,
   "metadata": {},
   "outputs": [
    {
     "data": {
      "text/plain": [
       "<matplotlib.axes._subplots.AxesSubplot at 0x1211559c988>"
      ]
     },
     "execution_count": 26,
     "metadata": {},
     "output_type": "execute_result"
    },
    {
     "data": {
      "image/png": "[encoded data removed]",
      "text/plain": [
       "<Figure size 432x288 with 1 Axes>"
      ]
     },
     "metadata": {
      "needs_background": "light"
     },
     "output_type": "display_data"
    }
   ],
   "source": [
    "sns.histplot(df_prodtaken_n['Age'], kde=True, color='red')"
   ]
  },
  {
   "cell_type": "code",
   "execution_count": 27,
   "metadata": {},
   "outputs": [
    {
     "name": "stdout",
     "output_type": "stream",
     "text": [
      "(-1.9642398045825449, 1.9642398045825449)\n",
      "tstat: xb1, xb2, ss1, ss2, n1, n2 \n",
      "[37.6, 34.147217235188506, 8.714620931645323, 9.912379458175925, 2370, 557]\n",
      "7.562641869092792\n"
     ]
    }
   ],
   "source": [
    "#Ages can be assumed to be roughly normal and independent of one another\n",
    "#H0 : mean age is the same between package status\n",
    "#H1 : mean age is different between package status\n",
    "# significance = .05\n",
    "twos_twotail_ttest(df_prodtaken_n['Age'], df_prodtaken_y['Age'], .05)"
   ]
  },
  {
   "cell_type": "code",
   "execution_count": 28,
   "metadata": {},
   "outputs": [],
   "source": [
    "#7.9 for the t statistic is outside the range therefore the means are statistically different"
   ]
  },
  {
   "cell_type": "code",
   "execution_count": 29,
   "metadata": {},
   "outputs": [
    {
     "data": {
      "text/plain": [
       "<matplotlib.axes._subplots.AxesSubplot at 0x12115431388>"
      ]
     },
     "execution_count": 29,
     "metadata": {},
     "output_type": "execute_result"
    },
    {
     "data": {
      "image/png": "[encoded data removed]",
      "text/plain": [
       "<Figure size 432x288 with 1 Axes>"
      ]
     },
     "metadata": {
      "needs_background": "light"
     },
     "output_type": "display_data"
    }
   ],
   "source": [
    "#CityTeir\n",
    "sns.histplot(df_prodtaken_y['CityTier'], kde=True, color='green')"
   ]
  },
  {
   "cell_type": "code",
   "execution_count": 30,
   "metadata": {},
   "outputs": [
    {
     "data": {
      "text/plain": [
       "<matplotlib.axes._subplots.AxesSubplot at 0x12115c2fc08>"
      ]
     },
     "execution_count": 30,
     "metadata": {},
     "output_type": "execute_result"
    },
    {
     "data": {
      "image/png": "[encoded data removed]",
      "text/plain": [
       "<Figure size 432x288 with 1 Axes>"
      ]
     },
     "metadata": {
      "needs_background": "light"
     },
     "output_type": "display_data"
    }
   ],
   "source": [
    "sns.histplot(df_prodtaken_n['CityTier'], kde=True, color='red')"
   ]
  },
  {
   "cell_type": "code",
   "execution_count": 31,
   "metadata": {},
   "outputs": [
    {
     "name": "stdout",
     "output_type": "stream",
     "text": [
      "(-1.959963984540054, 1.959963984540054)\n",
      "5.008156609423943\n"
     ]
    }
   ],
   "source": [
    "#The two prop z can be used on City teir, npq>10 and binomial situation is '=1' success, \n",
    "# with '!=1' fail\n",
    "#H0 : prop city teir is the same between package status \n",
    "#H1 : prop city teir different between package status\n",
    "# significance = .05\n",
    "nCT_is1, nCT_isnt1 = [x for _, x in df_prodtaken_n.groupby(df_prodtaken_n['CityTier'] != 1)]\n",
    "nencodeCT = [1]*len(nCT_is1['CityTier'])\n",
    "nencodeCT.extend([0]*len(nCT_isnt1))\n",
    "yCT_is1, yCT_isnt1 = [x for _, x in df_prodtaken_y.groupby(df_prodtaken_y['CityTier'] != 1)]\n",
    "yencodeCT = [1]*len(yCT_is1['CityTier'])\n",
    "yencodeCT.extend([0]*len(yCT_isnt1))\n",
    "twoprop_twotail_z(nencodeCT, yencodeCT, .05)#(df_prodtaken_n['CityTier'], df_prodtaken_y['CityTier'], sig)"
   ]
  },
  {
   "cell_type": "code",
   "execution_count": 32,
   "metadata": {},
   "outputs": [],
   "source": [
    "#therefore, city tier is statistically different"
   ]
  },
  {
   "cell_type": "code",
   "execution_count": 33,
   "metadata": {},
   "outputs": [
    {
     "data": {
      "text/plain": [
       "<matplotlib.axes._subplots.AxesSubplot at 0x12115bd8f08>"
      ]
     },
     "execution_count": 33,
     "metadata": {},
     "output_type": "execute_result"
    },
    {
     "data": {
      "image/png": "[encoded data removed]",
      "text/plain": [
       "<Figure size 432x288 with 1 Axes>"
      ]
     },
     "metadata": {
      "needs_background": "light"
     },
     "output_type": "display_data"
    }
   ],
   "source": [
    "#DurationOfPitch\n",
    "sns.histplot(df_prodtaken_y['DurationOfPitch'], kde=True, color='green')"
   ]
  },
  {
   "cell_type": "code",
   "execution_count": 34,
   "metadata": {},
   "outputs": [
    {
     "data": {
      "text/plain": [
       "<matplotlib.axes._subplots.AxesSubplot at 0x121134c10c8>"
      ]
     },
     "execution_count": 34,
     "metadata": {},
     "output_type": "execute_result"
    },
    {
     "data": {
      "image/png": "[encoded data removed]",
      "text/plain": [
       "<Figure size 432x288 with 1 Axes>"
      ]
     },
     "metadata": {
      "needs_background": "light"
     },
     "output_type": "display_data"
    }
   ],
   "source": [
    "sns.histplot(df_prodtaken_n['DurationOfPitch'], kde=True, color='red')"
   ]
  },
  {
   "cell_type": "code",
   "execution_count": 35,
   "metadata": {},
   "outputs": [
    {
     "name": "stdout",
     "output_type": "stream",
     "text": [
      "(-1.959963984540054, 1.959963984540054)\n",
      "4.888252740790541\n"
     ]
    }
   ],
   "source": [
    "#DurationOfPitch\n",
    "#The two prop z can be used on DurationOfPitch, npq>10 and binomial situation is '<20' success, \n",
    "# with '>=20' fail\n",
    "#H0 : prop DurationOfPitch is the same between package status \n",
    "#H1 : prop DurationOfPitch different between package status\n",
    "# significance = .05\n",
    "DoP = 'DurationOfPitch'\n",
    "nDoP_isunder20, nDoP_isntunder20 = [x for _, x in df_prodtaken_n.groupby(df_prodtaken_n[DoP] >= 20)]\n",
    "nencode_DoP = [1]*len(nDoP_isunder20[DoP])\n",
    "nencode_DoP.extend([0]*len(nDoP_isntunder20))\n",
    "yDoP_isunder20, yDoP_isntunder20 = [x for _, x in df_prodtaken_y.groupby(df_prodtaken_y[DoP] >= 20)]\n",
    "yencode_DoP = [1]*len(yDoP_isunder20[DoP])\n",
    "yencode_DoP.extend([0]*len(yDoP_isntunder20))\n",
    "twoprop_twotail_z(nencode_DoP, yencode_DoP, .05)"
   ]
  },
  {
   "cell_type": "code",
   "execution_count": 36,
   "metadata": {},
   "outputs": [],
   "source": [
    "#therefore, Duration of Pitch is statistically different"
   ]
  },
  {
   "cell_type": "code",
   "execution_count": 37,
   "metadata": {},
   "outputs": [
    {
     "data": {
      "text/plain": [
       "<matplotlib.axes._subplots.AxesSubplot at 0x12113557648>"
      ]
     },
     "execution_count": 37,
     "metadata": {},
     "output_type": "execute_result"
    },
    {
     "data": {
      "image/png": "[encoded data removed]",
      "text/plain": [
       "<Figure size 432x288 with 1 Axes>"
      ]
     },
     "metadata": {
      "needs_background": "light"
     },
     "output_type": "display_data"
    }
   ],
   "source": [
    "#NumberOfPersonVisiting\n",
    "sns.histplot(df_prodtaken_n['NumberOfPersonVisiting'], kde=True, color='red')"
   ]
  },
  {
   "cell_type": "code",
   "execution_count": 38,
   "metadata": {},
   "outputs": [
    {
     "data": {
      "text/plain": [
       "<matplotlib.axes._subplots.AxesSubplot at 0x12115c47408>"
      ]
     },
     "execution_count": 38,
     "metadata": {},
     "output_type": "execute_result"
    },
    {
     "data": {
      "image/png": "[encoded data removed]",
      "text/plain": [
       "<Figure size 432x288 with 1 Axes>"
      ]
     },
     "metadata": {
      "needs_background": "light"
     },
     "output_type": "display_data"
    }
   ],
   "source": [
    "sns.histplot(df_prodtaken_y['NumberOfPersonVisiting'], kde=True, color='green')"
   ]
  },
  {
   "cell_type": "code",
   "execution_count": 39,
   "metadata": {},
   "outputs": [
    {
     "name": "stdout",
     "output_type": "stream",
     "text": [
      "(-1.9642398045825449, 1.9642398045825449)\n",
      "tstat: xb1, xb2, ss1, ss2, n1, n2 \n",
      "[2.9544303797468356, 2.933572710951526, 0.726126577294003, 0.7052503386154999, 2370, 557]\n",
      "0.6245171353472931\n"
     ]
    }
   ],
   "source": [
    "#Number of Person Visiting can be assumed to be roughly normal and independent of one another\n",
    "#H0 : mean Numberof Persons Visiting is the same between package status\n",
    "#H1 : mean Numberof Persons Visiting is different between package status\n",
    "# significance = .05\n",
    "twos_twotail_ttest(df_prodtaken_n['NumberOfPersonVisiting'], df_prodtaken_y['NumberOfPersonVisiting'], .05)"
   ]
  },
  {
   "cell_type": "code",
   "execution_count": 40,
   "metadata": {},
   "outputs": [],
   "source": [
    "#Number of Person Visiting is therefore not statistically impactful\n",
    "df_prodtaken_n.drop(columns=['NumberOfPersonVisiting'], inplace=True)\n",
    "df_prodtaken_y.drop(columns=['NumberOfPersonVisiting'], inplace=True)"
   ]
  },
  {
   "cell_type": "code",
   "execution_count": 41,
   "metadata": {},
   "outputs": [
    {
     "data": {
      "text/plain": [
       "<matplotlib.axes._subplots.AxesSubplot at 0x12115c58108>"
      ]
     },
     "execution_count": 41,
     "metadata": {},
     "output_type": "execute_result"
    },
    {
     "data": {
      "image/png": "[encoded data removed]",
      "text/plain": [
       "<Figure size 432x288 with 1 Axes>"
      ]
     },
     "metadata": {
      "needs_background": "light"
     },
     "output_type": "display_data"
    }
   ],
   "source": [
    "#NumberOfFollowups\n",
    "sns.histplot(df_prodtaken_y['NumberOfFollowups'], kde=True, color='green')"
   ]
  },
  {
   "cell_type": "code",
   "execution_count": 42,
   "metadata": {},
   "outputs": [
    {
     "data": {
      "text/plain": [
       "<matplotlib.axes._subplots.AxesSubplot at 0x12114c0a448>"
      ]
     },
     "execution_count": 42,
     "metadata": {},
     "output_type": "execute_result"
    },
    {
     "data": {
      "image/png": "[encoded data removed]",
      "text/plain": [
       "<Figure size 432x288 with 1 Axes>"
      ]
     },
     "metadata": {
      "needs_background": "light"
     },
     "output_type": "display_data"
    }
   ],
   "source": [
    "sns.histplot(df_prodtaken_n['NumberOfFollowups'], kde=True, color='red')"
   ]
  },
  {
   "cell_type": "code",
   "execution_count": 43,
   "metadata": {},
   "outputs": [
    {
     "name": "stdout",
     "output_type": "stream",
     "text": [
      "(-1.9642398045825449, 1.9642398045825449)\n",
      "tstat: xb1, xb2, ss1, ss2, n1, n2 \n",
      "[3.691561181434599, 3.938958707360862, 0.987796201363374, 0.9762693232184035, 2370, 557]\n",
      "-5.369536194779739\n"
     ]
    }
   ],
   "source": [
    "#number of followups can be assumed to be roughly normal and independent of one another\n",
    "#H0 : mean number of followups is the same between package status\n",
    "#H1 : mean number of followups is different between package status\n",
    "# significance = .05\n",
    "twos_twotail_ttest(df_prodtaken_n['NumberOfFollowups'], df_prodtaken_y['NumberOfFollowups'], .05)"
   ]
  },
  {
   "cell_type": "code",
   "execution_count": 44,
   "metadata": {},
   "outputs": [],
   "source": [
    "#number of followups is statistically different "
   ]
  },
  {
   "cell_type": "code",
   "execution_count": 45,
   "metadata": {},
   "outputs": [
    {
     "data": {
      "text/plain": [
       "<matplotlib.axes._subplots.AxesSubplot at 0x12115d20908>"
      ]
     },
     "execution_count": 45,
     "metadata": {},
     "output_type": "execute_result"
    },
    {
     "data": {
      "image/png": "[encoded data removed]",
      "text/plain": [
       "<Figure size 432x288 with 1 Axes>"
      ]
     },
     "metadata": {
      "needs_background": "light"
     },
     "output_type": "display_data"
    }
   ],
   "source": [
    "#PreferredPropertyStar\n",
    "sns.histplot(df_prodtaken_n['PreferredPropertyStar'], kde=True, color='red')"
   ]
  },
  {
   "cell_type": "code",
   "execution_count": 46,
   "metadata": {},
   "outputs": [
    {
     "data": {
      "text/plain": [
       "<matplotlib.axes._subplots.AxesSubplot at 0x12114cdf388>"
      ]
     },
     "execution_count": 46,
     "metadata": {},
     "output_type": "execute_result"
    },
    {
     "data": {
      "image/png": "[encoded data removed]",
      "text/plain": [
       "<Figure size 432x288 with 1 Axes>"
      ]
     },
     "metadata": {
      "needs_background": "light"
     },
     "output_type": "display_data"
    }
   ],
   "source": [
    "sns.histplot(df_prodtaken_y['PreferredPropertyStar'], kde=True, color='green')"
   ]
  },
  {
   "cell_type": "code",
   "execution_count": 47,
   "metadata": {},
   "outputs": [
    {
     "name": "stdout",
     "output_type": "stream",
     "text": [
      "(-1.959963984540054, 1.959963984540054)\n",
      "5.354507315201065\n"
     ]
    }
   ],
   "source": [
    "#PreferredPropertyStar\n",
    "#The two prop z can be used on DurationOfPitch, npq>10 and binomial situation is '=3' success, \n",
    "# with '>=4' fail\n",
    "#H0 : prop DurationOfPitch is the same between package status \n",
    "#H1 : prop DurationOfPitch different between package status\n",
    "# significance = .05\n",
    "PPS = 'PreferredPropertyStar'\n",
    "nPPS_isunder4, nPPS_isntunder4 = [x for _, x in df_prodtaken_n.groupby(df_prodtaken_n[PPS] != 3)]\n",
    "nencode_PPS = [1]*len(nPPS_isunder4[PPS])\n",
    "nencode_PPS.extend([0]*len(nPPS_isntunder4))\n",
    "yPPS_isunder4, yPPS_isntunder4 = [x for _, x in df_prodtaken_y.groupby(df_prodtaken_y[PPS] != 3)]\n",
    "yencode_PPS = [1]*len(yPPS_isunder4[PPS])\n",
    "yencode_PPS.extend([0]*len(yPPS_isntunder4))\n",
    "twoprop_twotail_z(nencode_PPS, yencode_PPS, .05)"
   ]
  },
  {
   "cell_type": "code",
   "execution_count": 48,
   "metadata": {},
   "outputs": [],
   "source": [
    "#Reject null, the Prefered Property Star Is different between groups"
   ]
  },
  {
   "cell_type": "code",
   "execution_count": 49,
   "metadata": {},
   "outputs": [
    {
     "data": {
      "text/plain": [
       "<matplotlib.axes._subplots.AxesSubplot at 0x1211358a448>"
      ]
     },
     "execution_count": 49,
     "metadata": {},
     "output_type": "execute_result"
    },
    {
     "data": {
      "image/png": "[encoded data removed]",
      "text/plain": [
       "<Figure size 432x288 with 1 Axes>"
      ]
     },
     "metadata": {
      "needs_background": "light"
     },
     "output_type": "display_data"
    }
   ],
   "source": [
    "#NumberOfTrips\n",
    "sns.histplot(df_prodtaken_y['NumberOfTrips'], kde=True, color='green')"
   ]
  },
  {
   "cell_type": "code",
   "execution_count": 50,
   "metadata": {},
   "outputs": [
    {
     "data": {
      "text/plain": [
       "<matplotlib.axes._subplots.AxesSubplot at 0x1211234a988>"
      ]
     },
     "execution_count": 50,
     "metadata": {},
     "output_type": "execute_result"
    },
    {
     "data": {
      "image/png": "[encoded data removed]",
      "text/plain": [
       "<Figure size 432x288 with 1 Axes>"
      ]
     },
     "metadata": {
      "needs_background": "light"
     },
     "output_type": "display_data"
    }
   ],
   "source": [
    "sns.histplot(df_prodtaken_n['NumberOfTrips'], kde=True, color='red')"
   ]
  },
  {
   "cell_type": "code",
   "execution_count": 51,
   "metadata": {},
   "outputs": [
    {
     "name": "stdout",
     "output_type": "stream",
     "text": [
      "(-1.959963984540054, 1.959963984540054)\n",
      "0.38311745730893587\n"
     ]
    }
   ],
   "source": [
    "#NumberOfTrips\n",
    "#The two prop z can be used on NumberOfTrips, npq>10 and binomial situation is '<5' success, \n",
    "# with '>=5' fail\n",
    "#H0 : prop NumberOfTrips is the same between package status \n",
    "#H1 : prop NumberOfTrips different between package status\n",
    "# significance = .05\n",
    "NOT = 'NumberOfTrips'\n",
    "nNOT_isunder5, nNOT_isntunder5 = [x for _, x in df_prodtaken_n.groupby(df_prodtaken_n[NOT] >= 5)]\n",
    "nencode_NOT = [1]*len(nNOT_isunder5[NOT])\n",
    "nencode_NOT.extend([0]*len(nNOT_isntunder5))\n",
    "yNOT_isunder5, yNOT_isntunder5 = [x for _, x in df_prodtaken_y.groupby(df_prodtaken_y[NOT] >= 5)]\n",
    "yencode_NOT = [1]*len(yNOT_isunder5[NOT])\n",
    "yencode_NOT.extend([0]*len(yNOT_isntunder5))\n",
    "twoprop_twotail_z(nencode_NOT, yencode_NOT, .05)"
   ]
  },
  {
   "cell_type": "code",
   "execution_count": 52,
   "metadata": {},
   "outputs": [],
   "source": [
    "#Number of trip is not statistically significant\n",
    "df_prodtaken_n.drop(columns=[NOT], inplace=True)\n",
    "df_prodtaken_y.drop(columns=[NOT], inplace=True)"
   ]
  },
  {
   "cell_type": "code",
   "execution_count": 53,
   "metadata": {},
   "outputs": [
    {
     "data": {
      "text/plain": [
       "<matplotlib.axes._subplots.AxesSubplot at 0x121136cb388>"
      ]
     },
     "execution_count": 53,
     "metadata": {},
     "output_type": "execute_result"
    },
    {
     "data": {
      "image/png": "[encoded data removed]",
      "text/plain": [
       "<Figure size 432x288 with 1 Axes>"
      ]
     },
     "metadata": {
      "needs_background": "light"
     },
     "output_type": "display_data"
    }
   ],
   "source": [
    "#Passport\n",
    "sns.histplot(df_prodtaken_n['Passport'], kde=True, color='red')"
   ]
  },
  {
   "cell_type": "code",
   "execution_count": 54,
   "metadata": {},
   "outputs": [
    {
     "data": {
      "text/plain": [
       "<matplotlib.axes._subplots.AxesSubplot at 0x1211519cac8>"
      ]
     },
     "execution_count": 54,
     "metadata": {},
     "output_type": "execute_result"
    },
    {
     "data": {
      "image/png": "[encoded data removed]",
      "text/plain": [
       "<Figure size 432x288 with 1 Axes>"
      ]
     },
     "metadata": {
      "needs_background": "light"
     },
     "output_type": "display_data"
    }
   ],
   "source": [
    "sns.histplot(df_prodtaken_y['Passport'], kde=True, color='green')"
   ]
  },
  {
   "cell_type": "code",
   "execution_count": 55,
   "metadata": {},
   "outputs": [
    {
     "name": "stdout",
     "output_type": "stream",
     "text": [
      "(-1.959963984540054, 1.959963984540054)\n",
      "-14.542736934926072\n"
     ]
    }
   ],
   "source": [
    "#Passport\n",
    "#The two prop z can be used on PPassport, npq>10 and binomial situation is '=1' success, \n",
    "# with '!=0' fail\n",
    "#H0 : prop Passport is the same between package status \n",
    "#H1 : prop Passport different between package status\n",
    "# significance = .05\n",
    "psp = 'Passport'\n",
    "npsp_is1, npsp_isnt1 = [x for _, x in df_prodtaken_n.groupby(df_prodtaken_n[psp] != 1)]\n",
    "nencode_psp = [1]*len(npsp_is1[PPS])\n",
    "nencode_psp.extend([0]*len(npsp_isnt1))\n",
    "ypsp_is1, ypsp_isnt1 = [x for _, x in df_prodtaken_y.groupby(df_prodtaken_y[psp] != 1)]\n",
    "yencode_psp = [1]*len(ypsp_is1[PPS])\n",
    "yencode_psp.extend([0]*len(ypsp_isnt1))\n",
    "twoprop_twotail_z(nencode_psp, yencode_psp, .05)"
   ]
  },
  {
   "cell_type": "code",
   "execution_count": 56,
   "metadata": {},
   "outputs": [],
   "source": [
    "#Passport is a factor"
   ]
  },
  {
   "cell_type": "code",
   "execution_count": 57,
   "metadata": {},
   "outputs": [
    {
     "data": {
      "text/plain": [
       "<matplotlib.axes._subplots.AxesSubplot at 0x12114cf3808>"
      ]
     },
     "execution_count": 57,
     "metadata": {},
     "output_type": "execute_result"
    },
    {
     "data": {
      "image/png": "[encoded data removed]",
      "text/plain": [
       "<Figure size 432x288 with 1 Axes>"
      ]
     },
     "metadata": {
      "needs_background": "light"
     },
     "output_type": "display_data"
    }
   ],
   "source": [
    "#PitchSatisfactionScore\n",
    "sns.histplot(df_prodtaken_y['PitchSatisfactionScore'], kde=True, color='green')"
   ]
  },
  {
   "cell_type": "code",
   "execution_count": 58,
   "metadata": {},
   "outputs": [
    {
     "data": {
      "text/plain": [
       "<matplotlib.axes._subplots.AxesSubplot at 0x12114ddea48>"
      ]
     },
     "execution_count": 58,
     "metadata": {},
     "output_type": "execute_result"
    },
    {
     "data": {
      "image/png": "[encoded data removed]",
      "text/plain": [
       "<Figure size 432x288 with 1 Axes>"
      ]
     },
     "metadata": {
      "needs_background": "light"
     },
     "output_type": "display_data"
    }
   ],
   "source": [
    "sns.histplot(df_prodtaken_n['PitchSatisfactionScore'], kde=True, color='red')"
   ]
  },
  {
   "cell_type": "code",
   "execution_count": 59,
   "metadata": {},
   "outputs": [
    {
     "name": "stdout",
     "output_type": "stream",
     "text": [
      "(-1.9642398045825449, 1.9642398045825449)\n",
      "tstat: xb1, xb2, ss1, ss2, n1, n2 \n",
      "[3.007594936708861, 3.238779174147217, 1.3522433077425087, 1.3405963251119408, 2370, 557]\n",
      "-3.6562060886467576\n"
     ]
    }
   ],
   "source": [
    "#PitchSatisfactionScore can be assumed to be roughly normal and independent of one another\n",
    "#H0 : mean PitchSatisfactionScore is the same between package status\n",
    "#H1 : mean PitchSatisfactionScore is different between package status\n",
    "# significance = .05\n",
    "twos_twotail_ttest(df_prodtaken_n['PitchSatisfactionScore'], df_prodtaken_y['PitchSatisfactionScore'], .05)"
   ]
  },
  {
   "cell_type": "code",
   "execution_count": 60,
   "metadata": {},
   "outputs": [],
   "source": [
    "#this is statistically significant so PitchSatisfaction Score is a factor"
   ]
  },
  {
   "cell_type": "code",
   "execution_count": 61,
   "metadata": {},
   "outputs": [
    {
     "data": {
      "text/plain": [
       "<matplotlib.axes._subplots.AxesSubplot at 0x12113116e88>"
      ]
     },
     "execution_count": 61,
     "metadata": {},
     "output_type": "execute_result"
    },
    {
     "data": {
      "image/png": "[encoded data removed]",
      "text/plain": [
       "<Figure size 432x288 with 1 Axes>"
      ]
     },
     "metadata": {
      "needs_background": "light"
     },
     "output_type": "display_data"
    }
   ],
   "source": [
    "#OwnCar\n",
    "sns.histplot(df_prodtaken_n['OwnCar'], kde=True, color='red')"
   ]
  },
  {
   "cell_type": "code",
   "execution_count": 62,
   "metadata": {},
   "outputs": [
    {
     "data": {
      "text/plain": [
       "<matplotlib.axes._subplots.AxesSubplot at 0x12114f62088>"
      ]
     },
     "execution_count": 62,
     "metadata": {},
     "output_type": "execute_result"
    },
    {
     "data": {
      "image/png": "[encoded data removed]",
      "text/plain": [
       "<Figure size 432x288 with 1 Axes>"
      ]
     },
     "metadata": {
      "needs_background": "light"
     },
     "output_type": "display_data"
    }
   ],
   "source": [
    "sns.histplot(df_prodtaken_y['OwnCar'], kde=True, color='green')"
   ]
  },
  {
   "cell_type": "code",
   "execution_count": 63,
   "metadata": {},
   "outputs": [
    {
     "name": "stdout",
     "output_type": "stream",
     "text": [
      "(-1.959963984540054, 1.959963984540054)\n",
      "0.15752356652953106\n"
     ]
    }
   ],
   "source": [
    "#OwnCar\n",
    "#The two prop z can be used on OwnCar, npq>10 and binomial situation is '=1' success, \n",
    "# with '!=0' fail\n",
    "#H0 : prop OwnCar is the same between package status \n",
    "#H1 : prop OwnCar different between package status\n",
    "# significance = .05\n",
    "OC = 'OwnCar'\n",
    "nOC_is1, nOC_isnt1 = [x for _, x in df_prodtaken_n.groupby(df_prodtaken_n[OC] != 1)]\n",
    "nencode_OC = [1]*len(nOC_is1[OC])\n",
    "nencode_OC.extend([0]*len(nOC_isnt1))\n",
    "yOC_is1, yOC_isnt1 = [x for _, x in df_prodtaken_y.groupby(df_prodtaken_y[OC] != 1)]\n",
    "yencode_OC = [1]*len(yOC_is1[OC])\n",
    "yencode_OC.extend([0]*len(yOC_isnt1))\n",
    "twoprop_twotail_z(nencode_OC, yencode_OC, .05)"
   ]
  },
  {
   "cell_type": "code",
   "execution_count": 64,
   "metadata": {},
   "outputs": [],
   "source": [
    "#Car Ownership is not a factor\n",
    "df_prodtaken_n.drop(columns=[OC], inplace=True)\n",
    "df_prodtaken_y.drop(columns=[OC], inplace=True)"
   ]
  },
  {
   "cell_type": "code",
   "execution_count": 65,
   "metadata": {},
   "outputs": [
    {
     "data": {
      "text/plain": [
       "<matplotlib.axes._subplots.AxesSubplot at 0x121152fb0c8>"
      ]
     },
     "execution_count": 65,
     "metadata": {},
     "output_type": "execute_result"
    },
    {
     "data": {
      "image/png": "[encoded data removed]",
      "text/plain": [
       "<Figure size 432x288 with 1 Axes>"
      ]
     },
     "metadata": {
      "needs_background": "light"
     },
     "output_type": "display_data"
    }
   ],
   "source": [
    "#NumberOfChildrenVisiting\n",
    "sns.histplot(df_prodtaken_y['NumberOfChildrenVisiting'], kde=True, color='green')"
   ]
  },
  {
   "cell_type": "code",
   "execution_count": 66,
   "metadata": {},
   "outputs": [
    {
     "data": {
      "text/plain": [
       "<matplotlib.axes._subplots.AxesSubplot at 0x121153f8a48>"
      ]
     },
     "execution_count": 66,
     "metadata": {},
     "output_type": "execute_result"
    },
    {
     "data": {
      "image/png": "[encoded data removed]",
      "text/plain": [
       "<Figure size 432x288 with 1 Axes>"
      ]
     },
     "metadata": {
      "needs_background": "light"
     },
     "output_type": "display_data"
    }
   ],
   "source": [
    "sns.histplot(df_prodtaken_n['NumberOfChildrenVisiting'], kde=True, color='r')"
   ]
  },
  {
   "cell_type": "code",
   "execution_count": 67,
   "metadata": {},
   "outputs": [
    {
     "name": "stdout",
     "output_type": "stream",
     "text": [
      "(-1.9642398045825449, 1.9642398045825449)\n",
      "tstat: xb1, xb2, ss1, ss2, n1, n2 \n",
      "[1.230379746835443, 1.2010771992818672, 0.8565819601069663, 0.860273665760364, 2370, 557]\n",
      "0.7239579535507047\n"
     ]
    }
   ],
   "source": [
    "#NumberOfChildrenVisiting can be assumed to be roughly normal and independent of one another\n",
    "#H0 : mean NumberOfChildrenVisiting is the same between package status\n",
    "#H1 : mean NumberOfChildrenVisiting is different between package status\n",
    "# significance = .05\n",
    "nocv = 'NumberOfChildrenVisiting'\n",
    "twos_twotail_ttest(df_prodtaken_n[nocv], df_prodtaken_y[nocv], .05)"
   ]
  },
  {
   "cell_type": "code",
   "execution_count": 68,
   "metadata": {},
   "outputs": [],
   "source": [
    "#numbrer of children visiting is not a factor\n",
    "df_prodtaken_n.drop(columns=[nocv], inplace=True)\n",
    "df_prodtaken_y.drop(columns=[nocv], inplace=True)"
   ]
  },
  {
   "cell_type": "code",
   "execution_count": 69,
   "metadata": {},
   "outputs": [
    {
     "data": {
      "text/plain": [
       "<matplotlib.axes._subplots.AxesSubplot at 0x12114b41dc8>"
      ]
     },
     "execution_count": 69,
     "metadata": {},
     "output_type": "execute_result"
    },
    {
     "data": {
      "image/png": "[encoded data removed]",
      "text/plain": [
       "<Figure size 432x288 with 1 Axes>"
      ]
     },
     "metadata": {
      "needs_background": "light"
     },
     "output_type": "display_data"
    }
   ],
   "source": [
    "#MonthlyIncome\n",
    "sns.histplot(df_prodtaken_n['MonthlyIncome'], kde=True, color='r')"
   ]
  },
  {
   "cell_type": "code",
   "execution_count": 70,
   "metadata": {},
   "outputs": [
    {
     "data": {
      "text/plain": [
       "<matplotlib.axes._subplots.AxesSubplot at 0x1211362f548>"
      ]
     },
     "execution_count": 70,
     "metadata": {},
     "output_type": "execute_result"
    },
    {
     "data": {
      "image/png": "[encoded data removed]",
      "text/plain": [
       "<Figure size 432x288 with 1 Axes>"
      ]
     },
     "metadata": {
      "needs_background": "light"
     },
     "output_type": "display_data"
    }
   ],
   "source": [
    "sns.histplot(df_prodtaken_y['MonthlyIncome'], kde=True, color='g')"
   ]
  },
  {
   "cell_type": "code",
   "execution_count": 71,
   "metadata": {},
   "outputs": [
    {
     "name": "stdout",
     "output_type": "stream",
     "text": [
      "(-1.959963984540054, 1.959963984540054)\n",
      "-4.119906424162812\n"
     ]
    }
   ],
   "source": [
    "#MonthlyIncome\n",
    "#The two prop z can be used on MonthlyIncome, npq>10 and binomial situation is '<26000' success, \n",
    "# with '!=0' fail\n",
    "#H0 : prop MonthlyIncome is the same between package status \n",
    "#H1 : prop MonthlyIncome different between package status\n",
    "# significance = .05\n",
    "MI = 'MonthlyIncome'\n",
    "nMI_is1, nMI_isnt1 = [x for _, x in df_prodtaken_n.groupby(df_prodtaken_n[MI] >= 26000)]\n",
    "nencode_MI = [1]*len(nMI_is1[MI])\n",
    "nencode_MI.extend([0]*len(nMI_isnt1))\n",
    "yMI_is1, yMI_isnt1 = [x for _, x in df_prodtaken_y.groupby(df_prodtaken_y[MI] >= 26000)]\n",
    "yencode_MI = [1]*len(yMI_is1[MI])\n",
    "yencode_MI.extend([0]*len(yMI_isnt1))\n",
    "twoprop_twotail_z(nencode_MI, yencode_MI, .05)"
   ]
  },
  {
   "cell_type": "code",
   "execution_count": 72,
   "metadata": {},
   "outputs": [],
   "source": [
    "#MonthlyIncome is a factor"
   ]
  },
  {
   "cell_type": "code",
   "execution_count": 73,
   "metadata": {},
   "outputs": [],
   "source": [
    "#CATEGORICAL ANALYSIS\n",
    "cat_tourism_data = tourism_data.dropna()\n",
    "cat_prodtaken_y, cat_prodtaken_n = [x for _, x in cat_tourism_data.groupby(cat_tourism_data['ProdTaken'] == 0)]"
   ]
  },
  {
   "cell_type": "code",
   "execution_count": 74,
   "metadata": {},
   "outputs": [
    {
     "data": {
      "text/plain": [
       "<matplotlib.axes._subplots.AxesSubplot at 0x1211373fec8>"
      ]
     },
     "execution_count": 74,
     "metadata": {},
     "output_type": "execute_result"
    },
    {
     "data": {
      "image/png": "[encoded data removed]",
      "text/plain": [
       "<Figure size 432x288 with 1 Axes>"
      ]
     },
     "metadata": {
      "needs_background": "light"
     },
     "output_type": "display_data"
    }
   ],
   "source": [
    "#TypeofContact\n",
    "sns.histplot(cat_prodtaken_y['TypeofContact'], kde=True, color='g')"
   ]
  },
  {
   "cell_type": "code",
   "execution_count": 75,
   "metadata": {},
   "outputs": [],
   "source": [
    "typeofContact_CI, typeofContact = [x for _, x in cat_prodtaken_y.groupby(cat_prodtaken_y['TypeofContact'] != \"Company Invited\")]"
   ]
  },
  {
   "cell_type": "code",
   "execution_count": 76,
   "metadata": {},
   "outputs": [
    {
     "name": "stdout",
     "output_type": "stream",
     "text": [
      "275\n",
      "797\n"
     ]
    }
   ],
   "source": [
    "companyinvited = len(typeofContact_CI)\n",
    "total = companyinvited+len(typeofContact)\n",
    "print(companyinvited)\n",
    "print(total)"
   ]
  },
  {
   "cell_type": "code",
   "execution_count": 77,
   "metadata": {},
   "outputs": [
    {
     "data": {
      "text/plain": [
       "<matplotlib.axes._subplots.AxesSubplot at 0x12113430f48>"
      ]
     },
     "execution_count": 77,
     "metadata": {},
     "output_type": "execute_result"
    },
    {
     "data": {
      "image/png": "[encoded data removed]",
      "text/plain": [
       "<Figure size 432x288 with 1 Axes>"
      ]
     },
     "metadata": {
      "needs_background": "light"
     },
     "output_type": "display_data"
    }
   ],
   "source": [
    "sns.histplot(cat_prodtaken_n['TypeofContact'], kde=True, color='r')"
   ]
  },
  {
   "cell_type": "code",
   "execution_count": 78,
   "metadata": {},
   "outputs": [],
   "source": [
    "#We can tell from plots alone that TypeofContact Matters"
   ]
  },
  {
   "cell_type": "code",
   "execution_count": 79,
   "metadata": {},
   "outputs": [
    {
     "data": {
      "text/plain": [
       "<matplotlib.axes._subplots.AxesSubplot at 0x12112f6ac88>"
      ]
     },
     "execution_count": 79,
     "metadata": {},
     "output_type": "execute_result"
    },
    {
     "data": {
      "image/png": "[encoded data removed]",
      "text/plain": [
       "<Figure size 432x288 with 1 Axes>"
      ]
     },
     "metadata": {
      "needs_background": "light"
     },
     "output_type": "display_data"
    }
   ],
   "source": [
    "#Occupation\n",
    "sns.histplot(cat_prodtaken_y['Occupation'], kde=True, color='g')"
   ]
  },
  {
   "cell_type": "code",
   "execution_count": 80,
   "metadata": {},
   "outputs": [
    {
     "data": {
      "text/plain": [
       "<matplotlib.axes._subplots.AxesSubplot at 0x12113320708>"
      ]
     },
     "execution_count": 80,
     "metadata": {},
     "output_type": "execute_result"
    },
    {
     "data": {
      "image/png": "[encoded data removed]",
      "text/plain": [
       "<Figure size 432x288 with 1 Axes>"
      ]
     },
     "metadata": {
      "needs_background": "light"
     },
     "output_type": "display_data"
    }
   ],
   "source": [
    "sns.histplot(cat_prodtaken_n['Occupation'], kde=True, color='r')"
   ]
  },
  {
   "cell_type": "code",
   "execution_count": 81,
   "metadata": {},
   "outputs": [
    {
     "name": "stdout",
     "output_type": "stream",
     "text": [
      "(-1.959963984540054, 1.959963984540054)\n",
      "2.126488619921936\n"
     ]
    }
   ],
   "source": [
    "#The two prop z can be used on Occupation, npq>10 and binomial situation is 'Salaried' success, \n",
    "# with '!=Salaried' fail\n",
    "#H0 : prop Salaried is the same between package status \n",
    "#H1 : prop Salaried different between package status\n",
    "# significance = .05\n",
    "O = 'Occupation'\n",
    "nSAL_is1, nSAL_isnt1 = [x for _, x in cat_prodtaken_n.groupby(cat_prodtaken_n[O] != 'Salaried')]\n",
    "nencode_SAL = [1]*len(nSAL_is1[O])\n",
    "nencode_SAL.extend([0]*len(nSAL_isnt1))\n",
    "ySAL_is1, ySAL_isnt1 = [x for _, x in cat_prodtaken_y.groupby(cat_prodtaken_y[O] != 'Salaried')]\n",
    "yencode_SAL = [1]*len(ySAL_is1[O])\n",
    "yencode_SAL.extend([0]*len(ySAL_isnt1))\n",
    "twoprop_twotail_z(nencode_SAL, yencode_SAL, .05)"
   ]
  },
  {
   "cell_type": "code",
   "execution_count": 82,
   "metadata": {},
   "outputs": [],
   "source": [
    "#Occupation Matters"
   ]
  },
  {
   "cell_type": "code",
   "execution_count": 83,
   "metadata": {},
   "outputs": [
    {
     "data": {
      "text/plain": [
       "<matplotlib.axes._subplots.AxesSubplot at 0x12113828bc8>"
      ]
     },
     "execution_count": 83,
     "metadata": {},
     "output_type": "execute_result"
    },
    {
     "data": {
      "image/png": "[encoded data removed]",
      "text/plain": [
       "<Figure size 432x288 with 1 Axes>"
      ]
     },
     "metadata": {
      "needs_background": "light"
     },
     "output_type": "display_data"
    }
   ],
   "source": [
    "#Gender\n",
    "sns.histplot(cat_prodtaken_y['Gender'], kde=True, color='g')"
   ]
  },
  {
   "cell_type": "code",
   "execution_count": 84,
   "metadata": {},
   "outputs": [
    {
     "data": {
      "text/plain": [
       "<matplotlib.axes._subplots.AxesSubplot at 0x12113661a88>"
      ]
     },
     "execution_count": 84,
     "metadata": {},
     "output_type": "execute_result"
    },
    {
     "data": {
      "image/png": "[encoded data removed]",
      "text/plain": [
       "<Figure size 432x288 with 1 Axes>"
      ]
     },
     "metadata": {
      "needs_background": "light"
     },
     "output_type": "display_data"
    }
   ],
   "source": [
    "sns.histplot(cat_prodtaken_n['Gender'], kde=True, color='r')"
   ]
  },
  {
   "cell_type": "code",
   "execution_count": 85,
   "metadata": {},
   "outputs": [],
   "source": [
    "#based on the histograms, gender is a factor"
   ]
  },
  {
   "cell_type": "code",
   "execution_count": 86,
   "metadata": {},
   "outputs": [
    {
     "data": {
      "text/plain": [
       "<matplotlib.axes._subplots.AxesSubplot at 0x12113680d48>"
      ]
     },
     "execution_count": 86,
     "metadata": {},
     "output_type": "execute_result"
    },
    {
     "data": {
      "image/png": "[encoded data removed]",
      "text/plain": [
       "<Figure size 432x288 with 1 Axes>"
      ]
     },
     "metadata": {
      "needs_background": "light"
     },
     "output_type": "display_data"
    }
   ],
   "source": [
    "#ProductPitched\n",
    "sns.histplot(cat_prodtaken_y['ProductPitched'], kde=True, color='g')"
   ]
  },
  {
   "cell_type": "code",
   "execution_count": 87,
   "metadata": {},
   "outputs": [
    {
     "data": {
      "text/plain": [
       "<matplotlib.axes._subplots.AxesSubplot at 0x121139462c8>"
      ]
     },
     "execution_count": 87,
     "metadata": {},
     "output_type": "execute_result"
    },
    {
     "data": {
      "image/png": "[encoded data removed]",
      "text/plain": [
       "<Figure size 432x288 with 1 Axes>"
      ]
     },
     "metadata": {
      "needs_background": "light"
     },
     "output_type": "display_data"
    }
   ],
   "source": [
    "sns.histplot(cat_prodtaken_n['ProductPitched'], kde=True, color='r')"
   ]
  },
  {
   "cell_type": "code",
   "execution_count": 88,
   "metadata": {},
   "outputs": [],
   "source": [
    "#based on the histograms, Product Pitched is also a factor"
   ]
  },
  {
   "cell_type": "code",
   "execution_count": 89,
   "metadata": {},
   "outputs": [
    {
     "data": {
      "text/plain": [
       "<matplotlib.axes._subplots.AxesSubplot at 0x12113ac7088>"
      ]
     },
     "execution_count": 89,
     "metadata": {},
     "output_type": "execute_result"
    },
    {
     "data": {
      "image/png": "[encoded data removed]",
      "text/plain": [
       "<Figure size 432x288 with 1 Axes>"
      ]
     },
     "metadata": {
      "needs_background": "light"
     },
     "output_type": "display_data"
    }
   ],
   "source": [
    "#MaritalStatus\n",
    "sns.histplot(cat_prodtaken_y['MaritalStatus'], kde=True, color='g')"
   ]
  },
  {
   "cell_type": "code",
   "execution_count": 90,
   "metadata": {},
   "outputs": [
    {
     "data": {
      "text/plain": [
       "<matplotlib.axes._subplots.AxesSubplot at 0x12114c392c8>"
      ]
     },
     "execution_count": 90,
     "metadata": {},
     "output_type": "execute_result"
    },
    {
     "data": {
      "image/png": "[encoded data removed]",
      "text/plain": [
       "<Figure size 432x288 with 1 Axes>"
      ]
     },
     "metadata": {
      "needs_background": "light"
     },
     "output_type": "display_data"
    }
   ],
   "source": [
    "sns.histplot(cat_prodtaken_n['MaritalStatus'], kde=True, color='r')"
   ]
  },
  {
   "cell_type": "code",
   "execution_count": 91,
   "metadata": {},
   "outputs": [],
   "source": [
    "#based on the histograms, marital status is also a factor"
   ]
  },
  {
   "cell_type": "code",
   "execution_count": 92,
   "metadata": {},
   "outputs": [
    {
     "data": {
      "text/plain": [
       "<matplotlib.axes._subplots.AxesSubplot at 0x12114f109c8>"
      ]
     },
     "execution_count": 92,
     "metadata": {},
     "output_type": "execute_result"
    },
    {
     "data": {
      "image/png": "[encoded data removed]",
      "text/plain": [
       "<Figure size 432x288 with 1 Axes>"
      ]
     },
     "metadata": {
      "needs_background": "light"
     },
     "output_type": "display_data"
    }
   ],
   "source": [
    "#Designation\n",
    "sns.histplot(cat_prodtaken_n['Designation'], kde=True, color='r')"
   ]
  },
  {
   "cell_type": "code",
   "execution_count": 93,
   "metadata": {},
   "outputs": [
    {
     "data": {
      "text/plain": [
       "<matplotlib.axes._subplots.AxesSubplot at 0x12114e9b9c8>"
      ]
     },
     "execution_count": 93,
     "metadata": {},
     "output_type": "execute_result"
    },
    {
     "data": {
      "image/png": "[encoded data removed]",
      "text/plain": [
       "<Figure size 432x288 with 1 Axes>"
      ]
     },
     "metadata": {
      "needs_background": "light"
     },
     "output_type": "display_data"
    }
   ],
   "source": [
    "sns.histplot(cat_prodtaken_y['Designation'], kde=True, color='g')"
   ]
  },
  {
   "cell_type": "code",
   "execution_count": 94,
   "metadata": {},
   "outputs": [],
   "source": [
    "#based on the histograms, designation is also a factor"
   ]
  },
  {
   "cell_type": "code",
   "execution_count": 95,
   "metadata": {},
   "outputs": [],
   "source": [
    "#Hypothesis with Bivariate correlation"
   ]
  },
  {
   "cell_type": "code",
   "execution_count": 96,
   "metadata": {},
   "outputs": [
    {
     "name": "stdout",
     "output_type": "stream",
     "text": [
      "['ProdTaken', 'Age', 'TypeofContact', 'CityTier', 'DurationOfPitch', 'Occupation', 'Gender', 'NumberOfPersonVisiting', 'NumberOfFollowups', 'ProductPitched', 'PreferredPropertyStar', 'MaritalStatus', 'NumberOfTrips', 'Passport', 'PitchSatisfactionScore', 'OwnCar', 'NumberOfChildrenVisiting', 'Designation', 'MonthlyIncome']\n"
     ]
    }
   ],
   "source": [
    "#____________________MODEL BUILDING\n",
    "all_cols = tourism_data.columns.tolist()\n",
    "nan_imputed = pd.DataFrame(columns=all_cols)\n",
    "print(nan_imputed.columns.tolist())"
   ]
  },
  {
   "cell_type": "code",
   "execution_count": 97,
   "metadata": {},
   "outputs": [
    {
     "data": {
      "text/plain": [
       "[2, 3, 4, 6, 8, 10, 1, 5, 7]"
      ]
     },
     "execution_count": 97,
     "metadata": {},
     "output_type": "execute_result"
    }
   ],
   "source": [
    "def merge(l1, l2):\n",
    "    for item in l1:\n",
    "        if item not in l2:\n",
    "            l2.append(item)\n",
    "    return l2\n",
    "merge([1,3,5,7],[2,3,4,6,8,10])"
   ]
  },
  {
   "cell_type": "code",
   "execution_count": 98,
   "metadata": {},
   "outputs": [
    {
     "name": "stdout",
     "output_type": "stream",
     "text": [
      "760\n"
     ]
    }
   ],
   "source": [
    "import math\n",
    "#math.isnan(tourism_data['Age'][4])\n",
    "ir=[]#null row index\n",
    "for col in all_cols:\n",
    "    ir = merge(tourism_data[tourism_data[col].isnull()].index.tolist(),ir)\n",
    "print(len(ir))"
   ]
  },
  {
   "cell_type": "code",
   "execution_count": 99,
   "metadata": {},
   "outputs": [],
   "source": [
    "nan_imputed = nan_imputed.append(tourism_data.iloc[ir])"
   ]
  },
  {
   "cell_type": "code",
   "execution_count": 100,
   "metadata": {},
   "outputs": [
    {
     "name": "stdout",
     "output_type": "stream",
     "text": [
      "<class 'pandas.core.frame.DataFrame'>\n",
      "Int64Index: 760 entries, 4 to 2209\n",
      "Data columns (total 19 columns):\n",
      " #   Column                    Non-Null Count  Dtype  \n",
      "---  ------                    --------------  -----  \n",
      " 0   ProdTaken                 760 non-null    object \n",
      " 1   Age                       534 non-null    float64\n",
      " 2   TypeofContact             735 non-null    object \n",
      " 3   CityTier                  760 non-null    object \n",
      " 4   DurationOfPitch           509 non-null    float64\n",
      " 5   Occupation                760 non-null    object \n",
      " 6   Gender                    760 non-null    object \n",
      " 7   NumberOfPersonVisiting    760 non-null    object \n",
      " 8   NumberOfFollowups         715 non-null    float64\n",
      " 9   ProductPitched            760 non-null    object \n",
      " 10  PreferredPropertyStar     734 non-null    float64\n",
      " 11  MaritalStatus             760 non-null    object \n",
      " 12  NumberOfTrips             620 non-null    float64\n",
      " 13  Passport                  760 non-null    object \n",
      " 14  PitchSatisfactionScore    760 non-null    object \n",
      " 15  OwnCar                    760 non-null    object \n",
      " 16  NumberOfChildrenVisiting  694 non-null    float64\n",
      " 17  Designation               760 non-null    object \n",
      " 18  MonthlyIncome             527 non-null    float64\n",
      "dtypes: float64(7), object(12)\n",
      "memory usage: 118.8+ KB\n"
     ]
    }
   ],
   "source": [
    "nan_imputed.info() #Not yet imputed"
   ]
  },
  {
   "cell_type": "code",
   "execution_count": 101,
   "metadata": {},
   "outputs": [],
   "source": [
    "#add to the without outliers\n",
    "#wout_MI_os_nan, MI_os_nan =  [x for _, x in nan_imputed.groupby(nan_imputed['MonthlyIncome'] < 12508.5)]\n",
    "#wout_MI_os_nan, MI_os_nan =  [x for _, x in wout_MI_os_nan.groupby(wout_MI_os_nan['MonthlyIncome'] > 33408.5)]\n",
    "#wout_NT_os_nan, NT_os_nan =  [x for _, x in wout_MI_outliers.groupby(wout_MI_os_nan['NumberOfTrips'] > 7 )]\n",
    "#wout_DoP_os_nan, DoP_os_nan =  [x for _, x in wout_NT_outliers.groupby(wout_NT_os_nan['DurationOfPitch'] > 36.5 )]"
   ]
  },
  {
   "cell_type": "code",
   "execution_count": 102,
   "metadata": {},
   "outputs": [
    {
     "data": {
      "text/plain": [
       "['TypeofContact',\n",
       " 'Occupation',\n",
       " 'Gender',\n",
       " 'ProductPitched',\n",
       " 'MaritalStatus',\n",
       " 'Designation']"
      ]
     },
     "execution_count": 102,
     "metadata": {},
     "output_type": "execute_result"
    }
   ],
   "source": [
    "object_cols"
   ]
  },
  {
   "cell_type": "code",
   "execution_count": 103,
   "metadata": {},
   "outputs": [],
   "source": [
    "from sklearn.compose import ColumnTransformer\n",
    "from sklearn.preprocessing import OneHotEncoder\n",
    "from sklearn.impute import SimpleImputer\n",
    "from sklearn.pipeline import Pipeline"
   ]
  },
  {
   "cell_type": "code",
   "execution_count": 104,
   "metadata": {},
   "outputs": [
    {
     "name": "stdout",
     "output_type": "stream",
     "text": [
      "<class 'pandas.core.frame.DataFrame'>\n",
      "Int64Index: 2927 entries, 2990 to 3345\n",
      "Data columns (total 36 columns):\n",
      " #   Column                    Non-Null Count  Dtype  \n",
      "---  ------                    --------------  -----  \n",
      " 0   ProdTaken                 2927 non-null   int64  \n",
      " 1   Age                       2927 non-null   float64\n",
      " 2   CityTier                  2927 non-null   int64  \n",
      " 3   DurationOfPitch           2927 non-null   float64\n",
      " 4   NumberOfPersonVisiting    2927 non-null   int64  \n",
      " 5   NumberOfFollowups         2927 non-null   float64\n",
      " 6   PreferredPropertyStar     2927 non-null   float64\n",
      " 7   NumberOfTrips             2927 non-null   float64\n",
      " 8   Passport                  2927 non-null   int64  \n",
      " 9   PitchSatisfactionScore    2927 non-null   int64  \n",
      " 10  OwnCar                    2927 non-null   int64  \n",
      " 11  NumberOfChildrenVisiting  2927 non-null   float64\n",
      " 12  MonthlyIncome             2927 non-null   float64\n",
      " 13  0                         2927 non-null   float64\n",
      " 14  1                         2927 non-null   float64\n",
      " 15  2                         2927 non-null   float64\n",
      " 16  3                         2927 non-null   float64\n",
      " 17  4                         2927 non-null   float64\n",
      " 18  5                         2927 non-null   float64\n",
      " 19  6                         2927 non-null   float64\n",
      " 20  7                         2927 non-null   float64\n",
      " 21  8                         2927 non-null   float64\n",
      " 22  9                         2927 non-null   float64\n",
      " 23  10                        2927 non-null   float64\n",
      " 24  11                        2927 non-null   float64\n",
      " 25  12                        2927 non-null   float64\n",
      " 26  13                        2927 non-null   float64\n",
      " 27  14                        2927 non-null   float64\n",
      " 28  15                        2927 non-null   float64\n",
      " 29  16                        2927 non-null   float64\n",
      " 30  17                        2927 non-null   float64\n",
      " 31  18                        2927 non-null   float64\n",
      " 32  19                        2927 non-null   float64\n",
      " 33  20                        2927 non-null   float64\n",
      " 34  21                        2927 non-null   float64\n",
      " 35  22                        2927 non-null   float64\n",
      "dtypes: float64(30), int64(6)\n",
      "memory usage: 846.1 KB\n"
     ]
    }
   ],
   "source": [
    "wout_DoP_outliers.info()"
   ]
  },
  {
   "cell_type": "code",
   "execution_count": 125,
   "metadata": {},
   "outputs": [],
   "source": [
    "stick_this_on_wout_DoP_outliers = nan_imputed.drop(object_cols, axis=1)"
   ]
  },
  {
   "cell_type": "code",
   "execution_count": 154,
   "metadata": {},
   "outputs": [
    {
     "data": {
      "text/plain": [
       "3096"
      ]
     },
     "execution_count": 154,
     "metadata": {},
     "output_type": "execute_result"
    }
   ],
   "source": [
    "len(X_train)"
   ]
  },
  {
   "cell_type": "code",
   "execution_count": 156,
   "metadata": {},
   "outputs": [
    {
     "data": {
      "text/html": [
       "<div>\n",
       "<style scoped>\n",
       "    .dataframe tbody tr th:only-of-type {\n",
       "        vertical-align: middle;\n",
       "    }\n",
       "\n",
       "    .dataframe tbody tr th {\n",
       "        vertical-align: top;\n",
       "    }\n",
       "\n",
       "    .dataframe thead th {\n",
       "        text-align: right;\n",
       "    }\n",
       "</style>\n",
       "<table border=\"1\" class=\"dataframe\">\n",
       "  <thead>\n",
       "    <tr style=\"text-align: right;\">\n",
       "      <th></th>\n",
       "      <th>Age</th>\n",
       "      <th>TypeofContact</th>\n",
       "      <th>CityTier</th>\n",
       "      <th>DurationOfPitch</th>\n",
       "      <th>Occupation</th>\n",
       "      <th>Gender</th>\n",
       "      <th>NumberOfPersonVisiting</th>\n",
       "      <th>NumberOfFollowups</th>\n",
       "      <th>ProductPitched</th>\n",
       "      <th>PreferredPropertyStar</th>\n",
       "      <th>MaritalStatus</th>\n",
       "      <th>NumberOfTrips</th>\n",
       "      <th>Passport</th>\n",
       "      <th>PitchSatisfactionScore</th>\n",
       "      <th>OwnCar</th>\n",
       "      <th>NumberOfChildrenVisiting</th>\n",
       "      <th>Designation</th>\n",
       "      <th>MonthlyIncome</th>\n",
       "    </tr>\n",
       "  </thead>\n",
       "  <tbody>\n",
       "    <tr>\n",
       "      <th>4889</th>\n",
       "      <td>38.0</td>\n",
       "      <td>Self Enquiry</td>\n",
       "      <td>1</td>\n",
       "      <td>9.0</td>\n",
       "      <td>Free Lancer</td>\n",
       "      <td>Male</td>\n",
       "      <td>4</td>\n",
       "      <td>5.0</td>\n",
       "      <td>Basic</td>\n",
       "      <td>3.0</td>\n",
       "      <td>Single</td>\n",
       "      <td>8.0</td>\n",
       "      <td>1</td>\n",
       "      <td>3</td>\n",
       "      <td>0</td>\n",
       "      <td>1.0</td>\n",
       "      <td>Executive</td>\n",
       "      <td>20768.0</td>\n",
       "    </tr>\n",
       "    <tr>\n",
       "      <th>4890</th>\n",
       "      <td>30.0</td>\n",
       "      <td>Self Enquiry</td>\n",
       "      <td>3</td>\n",
       "      <td>17.0</td>\n",
       "      <td>Salaried</td>\n",
       "      <td>Male</td>\n",
       "      <td>3</td>\n",
       "      <td>4.0</td>\n",
       "      <td>Basic</td>\n",
       "      <td>3.0</td>\n",
       "      <td>Unmarried</td>\n",
       "      <td>3.0</td>\n",
       "      <td>0</td>\n",
       "      <td>4</td>\n",
       "      <td>0</td>\n",
       "      <td>1.0</td>\n",
       "      <td>Executive</td>\n",
       "      <td>21320.0</td>\n",
       "    </tr>\n",
       "    <tr>\n",
       "      <th>4891</th>\n",
       "      <td>31.0</td>\n",
       "      <td>Company Invited</td>\n",
       "      <td>1</td>\n",
       "      <td>16.0</td>\n",
       "      <td>Small Business</td>\n",
       "      <td>Male</td>\n",
       "      <td>4</td>\n",
       "      <td>4.0</td>\n",
       "      <td>Deluxe</td>\n",
       "      <td>5.0</td>\n",
       "      <td>Married</td>\n",
       "      <td>3.0</td>\n",
       "      <td>0</td>\n",
       "      <td>1</td>\n",
       "      <td>1</td>\n",
       "      <td>2.0</td>\n",
       "      <td>Manager</td>\n",
       "      <td>21750.0</td>\n",
       "    </tr>\n",
       "    <tr>\n",
       "      <th>4892</th>\n",
       "      <td>34.0</td>\n",
       "      <td>Self Enquiry</td>\n",
       "      <td>1</td>\n",
       "      <td>28.0</td>\n",
       "      <td>Small Business</td>\n",
       "      <td>Male</td>\n",
       "      <td>4</td>\n",
       "      <td>2.0</td>\n",
       "      <td>Basic</td>\n",
       "      <td>4.0</td>\n",
       "      <td>Married</td>\n",
       "      <td>3.0</td>\n",
       "      <td>0</td>\n",
       "      <td>1</td>\n",
       "      <td>1</td>\n",
       "      <td>2.0</td>\n",
       "      <td>Executive</td>\n",
       "      <td>20706.0</td>\n",
       "    </tr>\n",
       "    <tr>\n",
       "      <th>4893</th>\n",
       "      <td>34.0</td>\n",
       "      <td>Company Invited</td>\n",
       "      <td>3</td>\n",
       "      <td>12.0</td>\n",
       "      <td>Salaried</td>\n",
       "      <td>Male</td>\n",
       "      <td>4</td>\n",
       "      <td>4.0</td>\n",
       "      <td>Deluxe</td>\n",
       "      <td>3.0</td>\n",
       "      <td>Divorced</td>\n",
       "      <td>8.0</td>\n",
       "      <td>0</td>\n",
       "      <td>1</td>\n",
       "      <td>1</td>\n",
       "      <td>3.0</td>\n",
       "      <td>Manager</td>\n",
       "      <td>28676.0</td>\n",
       "    </tr>\n",
       "  </tbody>\n",
       "</table>\n",
       "</div>"
      ],
      "text/plain": [
       "       Age    TypeofContact  CityTier  DurationOfPitch      Occupation Gender  \\\n",
       "4889  38.0     Self Enquiry         1              9.0     Free Lancer   Male   \n",
       "4890  30.0     Self Enquiry         3             17.0        Salaried   Male   \n",
       "4891  31.0  Company Invited         1             16.0  Small Business   Male   \n",
       "4892  34.0     Self Enquiry         1             28.0  Small Business   Male   \n",
       "4893  34.0  Company Invited         3             12.0        Salaried   Male   \n",
       "\n",
       "      NumberOfPersonVisiting  NumberOfFollowups ProductPitched  \\\n",
       "4889                       4                5.0          Basic   \n",
       "4890                       3                4.0          Basic   \n",
       "4891                       4                4.0         Deluxe   \n",
       "4892                       4                2.0          Basic   \n",
       "4893                       4                4.0         Deluxe   \n",
       "\n",
       "      PreferredPropertyStar MaritalStatus  NumberOfTrips  Passport  \\\n",
       "4889                    3.0        Single            8.0         1   \n",
       "4890                    3.0     Unmarried            3.0         0   \n",
       "4891                    5.0       Married            3.0         0   \n",
       "4892                    4.0       Married            3.0         0   \n",
       "4893                    3.0      Divorced            8.0         0   \n",
       "\n",
       "      PitchSatisfactionScore  OwnCar  NumberOfChildrenVisiting Designation  \\\n",
       "4889                       3       0                       1.0   Executive   \n",
       "4890                       4       0                       1.0   Executive   \n",
       "4891                       1       1                       2.0     Manager   \n",
       "4892                       1       1                       2.0   Executive   \n",
       "4893                       1       1                       3.0     Manager   \n",
       "\n",
       "      MonthlyIncome  \n",
       "4889        20768.0  \n",
       "4890        21320.0  \n",
       "4891        21750.0  \n",
       "4892        20706.0  \n",
       "4893        28676.0  "
      ]
     },
     "execution_count": 156,
     "metadata": {},
     "output_type": "execute_result"
    }
   ],
   "source": [
    "#testdf = pd.DataFrame({'my iq':[100,120,140]})\n",
    "X_train.index = list(set(range(4889,4889+len(X_train))))\n",
    "X_train.head()"
   ]
  },
  {
   "cell_type": "code",
   "execution_count": 170,
   "metadata": {},
   "outputs": [
    {
     "name": "stdout",
     "output_type": "stream",
     "text": [
      "<class 'pandas.core.frame.DataFrame'>\n",
      "Int64Index: 3831 entries, 4 to 7984\n",
      "Data columns (total 6 columns):\n",
      " #   Column          Non-Null Count  Dtype \n",
      "---  ------          --------------  ----- \n",
      " 0   TypeofContact   3831 non-null   object\n",
      " 1   Occupation      3831 non-null   object\n",
      " 2   Gender          3831 non-null   object\n",
      " 3   ProductPitched  3831 non-null   object\n",
      " 4   MaritalStatus   3831 non-null   object\n",
      " 5   Designation     3831 non-null   object\n",
      "dtypes: object(6)\n",
      "memory usage: 209.5+ KB\n"
     ]
    }
   ],
   "source": [
    "nio=nan_imputed[object_cols]\n",
    "nio=nio.dropna()\n",
    "#X_train \n",
    "nio=nio.append(X_train[object_cols].dropna())\n",
    "nio.info()"
   ]
  },
  {
   "cell_type": "code",
   "execution_count": 171,
   "metadata": {},
   "outputs": [],
   "source": [
    "# Apply one-hot encoder to each column with categorical data\n",
    "OH_encoder = OneHotEncoder(handle_unknown='ignore', sparse=False)\n",
    "OH_cols_train = pd.DataFrame(OH_encoder.fit_transform(nio[object_cols]))\n",
    "\n",
    "# One-hot encoding removed index; put it back\n",
    "OH_cols_train.index = nio.index\n",
    "\n",
    "# Remove categorical columns (will replace with one-hot encoding)\n",
    "num_X_train = nio.drop(object_cols, axis=1)\n",
    "\n",
    "# Add one-hot encoded columns to numerical features\n",
    "OH_nio = pd.concat([num_X_train, OH_cols_train], axis=1)"
   ]
  },
  {
   "cell_type": "code",
   "execution_count": 172,
   "metadata": {},
   "outputs": [
    {
     "name": "stdout",
     "output_type": "stream",
     "text": [
      "<class 'pandas.core.frame.DataFrame'>\n",
      "Int64Index: 3831 entries, 4 to 7984\n",
      "Data columns (total 23 columns):\n",
      " #   Column  Non-Null Count  Dtype  \n",
      "---  ------  --------------  -----  \n",
      " 0   0       3831 non-null   float64\n",
      " 1   1       3831 non-null   float64\n",
      " 2   2       3831 non-null   float64\n",
      " 3   3       3831 non-null   float64\n",
      " 4   4       3831 non-null   float64\n",
      " 5   5       3831 non-null   float64\n",
      " 6   6       3831 non-null   float64\n",
      " 7   7       3831 non-null   float64\n",
      " 8   8       3831 non-null   float64\n",
      " 9   9       3831 non-null   float64\n",
      " 10  10      3831 non-null   float64\n",
      " 11  11      3831 non-null   float64\n",
      " 12  12      3831 non-null   float64\n",
      " 13  13      3831 non-null   float64\n",
      " 14  14      3831 non-null   float64\n",
      " 15  15      3831 non-null   float64\n",
      " 16  16      3831 non-null   float64\n",
      " 17  17      3831 non-null   float64\n",
      " 18  18      3831 non-null   float64\n",
      " 19  19      3831 non-null   float64\n",
      " 20  20      3831 non-null   float64\n",
      " 21  21      3831 non-null   float64\n",
      " 22  22      3831 non-null   float64\n",
      "dtypes: float64(23)\n",
      "memory usage: 718.3 KB\n"
     ]
    }
   ],
   "source": [
    "OH_nio.info()"
   ]
  },
  {
   "cell_type": "code",
   "execution_count": 173,
   "metadata": {},
   "outputs": [
    {
     "data": {
      "text/html": [
       "<div>\n",
       "<style scoped>\n",
       "    .dataframe tbody tr th:only-of-type {\n",
       "        vertical-align: middle;\n",
       "    }\n",
       "\n",
       "    .dataframe tbody tr th {\n",
       "        vertical-align: top;\n",
       "    }\n",
       "\n",
       "    .dataframe thead th {\n",
       "        text-align: right;\n",
       "    }\n",
       "</style>\n",
       "<table border=\"1\" class=\"dataframe\">\n",
       "  <thead>\n",
       "    <tr style=\"text-align: right;\">\n",
       "      <th></th>\n",
       "      <th>0</th>\n",
       "      <th>1</th>\n",
       "      <th>2</th>\n",
       "      <th>3</th>\n",
       "      <th>4</th>\n",
       "      <th>5</th>\n",
       "      <th>6</th>\n",
       "      <th>7</th>\n",
       "      <th>8</th>\n",
       "      <th>9</th>\n",
       "      <th>...</th>\n",
       "      <th>13</th>\n",
       "      <th>14</th>\n",
       "      <th>15</th>\n",
       "      <th>16</th>\n",
       "      <th>17</th>\n",
       "      <th>18</th>\n",
       "      <th>19</th>\n",
       "      <th>20</th>\n",
       "      <th>21</th>\n",
       "      <th>22</th>\n",
       "    </tr>\n",
       "  </thead>\n",
       "  <tbody>\n",
       "    <tr>\n",
       "      <th>4</th>\n",
       "      <td>0.0</td>\n",
       "      <td>1.0</td>\n",
       "      <td>0.0</td>\n",
       "      <td>0.0</td>\n",
       "      <td>0.0</td>\n",
       "      <td>1.0</td>\n",
       "      <td>0.0</td>\n",
       "      <td>0.0</td>\n",
       "      <td>1.0</td>\n",
       "      <td>1.0</td>\n",
       "      <td>...</td>\n",
       "      <td>0.0</td>\n",
       "      <td>1.0</td>\n",
       "      <td>0.0</td>\n",
       "      <td>0.0</td>\n",
       "      <td>0.0</td>\n",
       "      <td>0.0</td>\n",
       "      <td>1.0</td>\n",
       "      <td>0.0</td>\n",
       "      <td>0.0</td>\n",
       "      <td>0.0</td>\n",
       "    </tr>\n",
       "    <tr>\n",
       "      <th>11</th>\n",
       "      <td>0.0</td>\n",
       "      <td>1.0</td>\n",
       "      <td>0.0</td>\n",
       "      <td>0.0</td>\n",
       "      <td>1.0</td>\n",
       "      <td>0.0</td>\n",
       "      <td>0.0</td>\n",
       "      <td>1.0</td>\n",
       "      <td>0.0</td>\n",
       "      <td>0.0</td>\n",
       "      <td>...</td>\n",
       "      <td>0.0</td>\n",
       "      <td>0.0</td>\n",
       "      <td>0.0</td>\n",
       "      <td>1.0</td>\n",
       "      <td>0.0</td>\n",
       "      <td>0.0</td>\n",
       "      <td>0.0</td>\n",
       "      <td>1.0</td>\n",
       "      <td>0.0</td>\n",
       "      <td>0.0</td>\n",
       "    </tr>\n",
       "    <tr>\n",
       "      <th>19</th>\n",
       "      <td>0.0</td>\n",
       "      <td>1.0</td>\n",
       "      <td>0.0</td>\n",
       "      <td>0.0</td>\n",
       "      <td>1.0</td>\n",
       "      <td>0.0</td>\n",
       "      <td>0.0</td>\n",
       "      <td>0.0</td>\n",
       "      <td>1.0</td>\n",
       "      <td>1.0</td>\n",
       "      <td>...</td>\n",
       "      <td>0.0</td>\n",
       "      <td>0.0</td>\n",
       "      <td>0.0</td>\n",
       "      <td>1.0</td>\n",
       "      <td>0.0</td>\n",
       "      <td>0.0</td>\n",
       "      <td>1.0</td>\n",
       "      <td>0.0</td>\n",
       "      <td>0.0</td>\n",
       "      <td>0.0</td>\n",
       "    </tr>\n",
       "    <tr>\n",
       "      <th>20</th>\n",
       "      <td>1.0</td>\n",
       "      <td>0.0</td>\n",
       "      <td>0.0</td>\n",
       "      <td>0.0</td>\n",
       "      <td>1.0</td>\n",
       "      <td>0.0</td>\n",
       "      <td>0.0</td>\n",
       "      <td>1.0</td>\n",
       "      <td>0.0</td>\n",
       "      <td>0.0</td>\n",
       "      <td>...</td>\n",
       "      <td>0.0</td>\n",
       "      <td>0.0</td>\n",
       "      <td>1.0</td>\n",
       "      <td>0.0</td>\n",
       "      <td>0.0</td>\n",
       "      <td>0.0</td>\n",
       "      <td>0.0</td>\n",
       "      <td>1.0</td>\n",
       "      <td>0.0</td>\n",
       "      <td>0.0</td>\n",
       "    </tr>\n",
       "    <tr>\n",
       "      <th>21</th>\n",
       "      <td>0.0</td>\n",
       "      <td>1.0</td>\n",
       "      <td>0.0</td>\n",
       "      <td>0.0</td>\n",
       "      <td>1.0</td>\n",
       "      <td>0.0</td>\n",
       "      <td>0.0</td>\n",
       "      <td>0.0</td>\n",
       "      <td>1.0</td>\n",
       "      <td>0.0</td>\n",
       "      <td>...</td>\n",
       "      <td>0.0</td>\n",
       "      <td>0.0</td>\n",
       "      <td>0.0</td>\n",
       "      <td>1.0</td>\n",
       "      <td>0.0</td>\n",
       "      <td>0.0</td>\n",
       "      <td>0.0</td>\n",
       "      <td>1.0</td>\n",
       "      <td>0.0</td>\n",
       "      <td>0.0</td>\n",
       "    </tr>\n",
       "  </tbody>\n",
       "</table>\n",
       "<p>5 rows × 23 columns</p>\n",
       "</div>"
      ],
      "text/plain": [
       "     0    1    2    3    4    5    6    7    8    9   ...   13   14   15   16  \\\n",
       "4   0.0  1.0  0.0  0.0  0.0  1.0  0.0  0.0  1.0  1.0  ...  0.0  1.0  0.0  0.0   \n",
       "11  0.0  1.0  0.0  0.0  1.0  0.0  0.0  1.0  0.0  0.0  ...  0.0  0.0  0.0  1.0   \n",
       "19  0.0  1.0  0.0  0.0  1.0  0.0  0.0  0.0  1.0  1.0  ...  0.0  0.0  0.0  1.0   \n",
       "20  1.0  0.0  0.0  0.0  1.0  0.0  0.0  1.0  0.0  0.0  ...  0.0  0.0  1.0  0.0   \n",
       "21  0.0  1.0  0.0  0.0  1.0  0.0  0.0  0.0  1.0  0.0  ...  0.0  0.0  0.0  1.0   \n",
       "\n",
       "     17   18   19   20   21   22  \n",
       "4   0.0  0.0  1.0  0.0  0.0  0.0  \n",
       "11  0.0  0.0  0.0  1.0  0.0  0.0  \n",
       "19  0.0  0.0  1.0  0.0  0.0  0.0  \n",
       "20  0.0  0.0  0.0  1.0  0.0  0.0  \n",
       "21  0.0  0.0  0.0  1.0  0.0  0.0  \n",
       "\n",
       "[5 rows x 23 columns]"
      ]
     },
     "execution_count": 173,
     "metadata": {},
     "output_type": "execute_result"
    }
   ],
   "source": [
    "OH_nio.head()"
   ]
  },
  {
   "cell_type": "code",
   "execution_count": 180,
   "metadata": {},
   "outputs": [
    {
     "ename": "KeyError",
     "evalue": "'[4889 4890 4891 ... 7982 7983 7984] not found in axis'",
     "output_type": "error",
     "traceback": [
      "\u001b[1;31m---------------------------------------------------------------------------\u001b[0m",
      "\u001b[1;31mKeyError\u001b[0m                                  Traceback (most recent call last)",
      "\u001b[1;32m<ipython-input-180-0747fb96c802>\u001b[0m in \u001b[0;36m<module>\u001b[1;34m\u001b[0m\n\u001b[1;32m----> 1\u001b[1;33m \u001b[0mOH_nio\u001b[0m \u001b[1;33m=\u001b[0m \u001b[0mOH_nio\u001b[0m\u001b[1;33m.\u001b[0m\u001b[0mdrop\u001b[0m\u001b[1;33m(\u001b[0m\u001b[0mlist\u001b[0m\u001b[1;33m(\u001b[0m\u001b[0mset\u001b[0m\u001b[1;33m(\u001b[0m\u001b[0mrange\u001b[0m\u001b[1;33m(\u001b[0m\u001b[1;36m4889\u001b[0m\u001b[1;33m,\u001b[0m\u001b[1;36m4889\u001b[0m\u001b[1;33m+\u001b[0m\u001b[0mlen\u001b[0m\u001b[1;33m(\u001b[0m\u001b[0mX_train\u001b[0m\u001b[1;33m)\u001b[0m\u001b[1;33m)\u001b[0m\u001b[1;33m)\u001b[0m\u001b[1;33m)\u001b[0m\u001b[1;33m,\u001b[0m\u001b[0maxis\u001b[0m\u001b[1;33m=\u001b[0m\u001b[1;36m0\u001b[0m\u001b[1;33m)\u001b[0m\u001b[1;33m\u001b[0m\u001b[1;33m\u001b[0m\u001b[0m\n\u001b[0m\u001b[0;32m      2\u001b[0m \u001b[0mlen\u001b[0m\u001b[1;33m(\u001b[0m\u001b[0mOH_nio\u001b[0m\u001b[1;33m)\u001b[0m\u001b[1;33m\u001b[0m\u001b[1;33m\u001b[0m\u001b[0m\n",
      "\u001b[1;32m~\\anaconda3\\lib\\site-packages\\pandas\\core\\frame.py\u001b[0m in \u001b[0;36mdrop\u001b[1;34m(self, labels, axis, index, columns, level, inplace, errors)\u001b[0m\n\u001b[0;32m   3995\u001b[0m             \u001b[0mlevel\u001b[0m\u001b[1;33m=\u001b[0m\u001b[0mlevel\u001b[0m\u001b[1;33m,\u001b[0m\u001b[1;33m\u001b[0m\u001b[1;33m\u001b[0m\u001b[0m\n\u001b[0;32m   3996\u001b[0m             \u001b[0minplace\u001b[0m\u001b[1;33m=\u001b[0m\u001b[0minplace\u001b[0m\u001b[1;33m,\u001b[0m\u001b[1;33m\u001b[0m\u001b[1;33m\u001b[0m\u001b[0m\n\u001b[1;32m-> 3997\u001b[1;33m             \u001b[0merrors\u001b[0m\u001b[1;33m=\u001b[0m\u001b[0merrors\u001b[0m\u001b[1;33m,\u001b[0m\u001b[1;33m\u001b[0m\u001b[1;33m\u001b[0m\u001b[0m\n\u001b[0m\u001b[0;32m   3998\u001b[0m         )\n\u001b[0;32m   3999\u001b[0m \u001b[1;33m\u001b[0m\u001b[0m\n",
      "\u001b[1;32m~\\anaconda3\\lib\\site-packages\\pandas\\core\\generic.py\u001b[0m in \u001b[0;36mdrop\u001b[1;34m(self, labels, axis, index, columns, level, inplace, errors)\u001b[0m\n\u001b[0;32m   3934\u001b[0m         \u001b[1;32mfor\u001b[0m \u001b[0maxis\u001b[0m\u001b[1;33m,\u001b[0m \u001b[0mlabels\u001b[0m \u001b[1;32min\u001b[0m \u001b[0maxes\u001b[0m\u001b[1;33m.\u001b[0m\u001b[0mitems\u001b[0m\u001b[1;33m(\u001b[0m\u001b[1;33m)\u001b[0m\u001b[1;33m:\u001b[0m\u001b[1;33m\u001b[0m\u001b[1;33m\u001b[0m\u001b[0m\n\u001b[0;32m   3935\u001b[0m             \u001b[1;32mif\u001b[0m \u001b[0mlabels\u001b[0m \u001b[1;32mis\u001b[0m \u001b[1;32mnot\u001b[0m \u001b[1;32mNone\u001b[0m\u001b[1;33m:\u001b[0m\u001b[1;33m\u001b[0m\u001b[1;33m\u001b[0m\u001b[0m\n\u001b[1;32m-> 3936\u001b[1;33m                 \u001b[0mobj\u001b[0m \u001b[1;33m=\u001b[0m \u001b[0mobj\u001b[0m\u001b[1;33m.\u001b[0m\u001b[0m_drop_axis\u001b[0m\u001b[1;33m(\u001b[0m\u001b[0mlabels\u001b[0m\u001b[1;33m,\u001b[0m \u001b[0maxis\u001b[0m\u001b[1;33m,\u001b[0m \u001b[0mlevel\u001b[0m\u001b[1;33m=\u001b[0m\u001b[0mlevel\u001b[0m\u001b[1;33m,\u001b[0m \u001b[0merrors\u001b[0m\u001b[1;33m=\u001b[0m\u001b[0merrors\u001b[0m\u001b[1;33m)\u001b[0m\u001b[1;33m\u001b[0m\u001b[1;33m\u001b[0m\u001b[0m\n\u001b[0m\u001b[0;32m   3937\u001b[0m \u001b[1;33m\u001b[0m\u001b[0m\n\u001b[0;32m   3938\u001b[0m         \u001b[1;32mif\u001b[0m \u001b[0minplace\u001b[0m\u001b[1;33m:\u001b[0m\u001b[1;33m\u001b[0m\u001b[1;33m\u001b[0m\u001b[0m\n",
      "\u001b[1;32m~\\anaconda3\\lib\\site-packages\\pandas\\core\\generic.py\u001b[0m in \u001b[0;36m_drop_axis\u001b[1;34m(self, labels, axis, level, errors)\u001b[0m\n\u001b[0;32m   3968\u001b[0m                 \u001b[0mnew_axis\u001b[0m \u001b[1;33m=\u001b[0m \u001b[0maxis\u001b[0m\u001b[1;33m.\u001b[0m\u001b[0mdrop\u001b[0m\u001b[1;33m(\u001b[0m\u001b[0mlabels\u001b[0m\u001b[1;33m,\u001b[0m \u001b[0mlevel\u001b[0m\u001b[1;33m=\u001b[0m\u001b[0mlevel\u001b[0m\u001b[1;33m,\u001b[0m \u001b[0merrors\u001b[0m\u001b[1;33m=\u001b[0m\u001b[0merrors\u001b[0m\u001b[1;33m)\u001b[0m\u001b[1;33m\u001b[0m\u001b[1;33m\u001b[0m\u001b[0m\n\u001b[0;32m   3969\u001b[0m             \u001b[1;32melse\u001b[0m\u001b[1;33m:\u001b[0m\u001b[1;33m\u001b[0m\u001b[1;33m\u001b[0m\u001b[0m\n\u001b[1;32m-> 3970\u001b[1;33m                 \u001b[0mnew_axis\u001b[0m \u001b[1;33m=\u001b[0m \u001b[0maxis\u001b[0m\u001b[1;33m.\u001b[0m\u001b[0mdrop\u001b[0m\u001b[1;33m(\u001b[0m\u001b[0mlabels\u001b[0m\u001b[1;33m,\u001b[0m \u001b[0merrors\u001b[0m\u001b[1;33m=\u001b[0m\u001b[0merrors\u001b[0m\u001b[1;33m)\u001b[0m\u001b[1;33m\u001b[0m\u001b[1;33m\u001b[0m\u001b[0m\n\u001b[0m\u001b[0;32m   3971\u001b[0m             \u001b[0mresult\u001b[0m \u001b[1;33m=\u001b[0m \u001b[0mself\u001b[0m\u001b[1;33m.\u001b[0m\u001b[0mreindex\u001b[0m\u001b[1;33m(\u001b[0m\u001b[1;33m**\u001b[0m\u001b[1;33m{\u001b[0m\u001b[0maxis_name\u001b[0m\u001b[1;33m:\u001b[0m \u001b[0mnew_axis\u001b[0m\u001b[1;33m}\u001b[0m\u001b[1;33m)\u001b[0m\u001b[1;33m\u001b[0m\u001b[1;33m\u001b[0m\u001b[0m\n\u001b[0;32m   3972\u001b[0m \u001b[1;33m\u001b[0m\u001b[0m\n",
      "\u001b[1;32m~\\anaconda3\\lib\\site-packages\\pandas\\core\\indexes\\base.py\u001b[0m in \u001b[0;36mdrop\u001b[1;34m(self, labels, errors)\u001b[0m\n\u001b[0;32m   5016\u001b[0m         \u001b[1;32mif\u001b[0m \u001b[0mmask\u001b[0m\u001b[1;33m.\u001b[0m\u001b[0many\u001b[0m\u001b[1;33m(\u001b[0m\u001b[1;33m)\u001b[0m\u001b[1;33m:\u001b[0m\u001b[1;33m\u001b[0m\u001b[1;33m\u001b[0m\u001b[0m\n\u001b[0;32m   5017\u001b[0m             \u001b[1;32mif\u001b[0m \u001b[0merrors\u001b[0m \u001b[1;33m!=\u001b[0m \u001b[1;34m\"ignore\"\u001b[0m\u001b[1;33m:\u001b[0m\u001b[1;33m\u001b[0m\u001b[1;33m\u001b[0m\u001b[0m\n\u001b[1;32m-> 5018\u001b[1;33m                 \u001b[1;32mraise\u001b[0m \u001b[0mKeyError\u001b[0m\u001b[1;33m(\u001b[0m\u001b[1;34mf\"{labels[mask]} not found in axis\"\u001b[0m\u001b[1;33m)\u001b[0m\u001b[1;33m\u001b[0m\u001b[1;33m\u001b[0m\u001b[0m\n\u001b[0m\u001b[0;32m   5019\u001b[0m             \u001b[0mindexer\u001b[0m \u001b[1;33m=\u001b[0m \u001b[0mindexer\u001b[0m\u001b[1;33m[\u001b[0m\u001b[1;33m~\u001b[0m\u001b[0mmask\u001b[0m\u001b[1;33m]\u001b[0m\u001b[1;33m\u001b[0m\u001b[1;33m\u001b[0m\u001b[0m\n\u001b[0;32m   5020\u001b[0m         \u001b[1;32mreturn\u001b[0m \u001b[0mself\u001b[0m\u001b[1;33m.\u001b[0m\u001b[0mdelete\u001b[0m\u001b[1;33m(\u001b[0m\u001b[0mindexer\u001b[0m\u001b[1;33m)\u001b[0m\u001b[1;33m\u001b[0m\u001b[1;33m\u001b[0m\u001b[0m\n",
      "\u001b[1;31mKeyError\u001b[0m: '[4889 4890 4891 ... 7982 7983 7984] not found in axis'"
     ]
    }
   ],
   "source": [
    "OH_nio = OH_nio.drop(list(set(range(4889,4889+len(X_train)))),axis=0)\n",
    "len(OH_nio)"
   ]
  },
  {
   "cell_type": "code",
   "execution_count": 182,
   "metadata": {},
   "outputs": [
    {
     "name": "stdout",
     "output_type": "stream",
     "text": [
      "<class 'pandas.core.frame.DataFrame'>\n",
      "Int64Index: 760 entries, 4 to 2209\n",
      "Data columns (total 13 columns):\n",
      " #   Column                    Non-Null Count  Dtype  \n",
      "---  ------                    --------------  -----  \n",
      " 0   ProdTaken                 760 non-null    object \n",
      " 1   Age                       534 non-null    float64\n",
      " 2   CityTier                  760 non-null    object \n",
      " 3   DurationOfPitch           509 non-null    float64\n",
      " 4   NumberOfPersonVisiting    760 non-null    object \n",
      " 5   NumberOfFollowups         715 non-null    float64\n",
      " 6   PreferredPropertyStar     734 non-null    float64\n",
      " 7   NumberOfTrips             620 non-null    float64\n",
      " 8   Passport                  760 non-null    object \n",
      " 9   PitchSatisfactionScore    760 non-null    object \n",
      " 10  OwnCar                    760 non-null    object \n",
      " 11  NumberOfChildrenVisiting  694 non-null    float64\n",
      " 12  MonthlyIncome             527 non-null    float64\n",
      "dtypes: float64(7), object(6)\n",
      "memory usage: 103.1+ KB\n"
     ]
    }
   ],
   "source": [
    "stick_this_on_wout_DoP_outliers.info()"
   ]
  },
  {
   "cell_type": "code",
   "execution_count": 183,
   "metadata": {},
   "outputs": [],
   "source": [
    "stick_this_on_wout_DoP_outliers= pd.concat([stick_this_on_wout_DoP_outliers,OH_nio], axis=1) "
   ]
  },
  {
   "cell_type": "code",
   "execution_count": 184,
   "metadata": {},
   "outputs": [
    {
     "name": "stdout",
     "output_type": "stream",
     "text": [
      "<class 'pandas.core.frame.DataFrame'>\n",
      "Int64Index: 760 entries, 4 to 4870\n",
      "Data columns (total 36 columns):\n",
      " #   Column                    Non-Null Count  Dtype  \n",
      "---  ------                    --------------  -----  \n",
      " 0   ProdTaken                 760 non-null    object \n",
      " 1   Age                       534 non-null    float64\n",
      " 2   CityTier                  760 non-null    object \n",
      " 3   DurationOfPitch           509 non-null    float64\n",
      " 4   NumberOfPersonVisiting    760 non-null    object \n",
      " 5   NumberOfFollowups         715 non-null    float64\n",
      " 6   PreferredPropertyStar     734 non-null    float64\n",
      " 7   NumberOfTrips             620 non-null    float64\n",
      " 8   Passport                  760 non-null    object \n",
      " 9   PitchSatisfactionScore    760 non-null    object \n",
      " 10  OwnCar                    760 non-null    object \n",
      " 11  NumberOfChildrenVisiting  694 non-null    float64\n",
      " 12  MonthlyIncome             527 non-null    float64\n",
      " 13  0                         735 non-null    float64\n",
      " 14  1                         735 non-null    float64\n",
      " 15  2                         735 non-null    float64\n",
      " 16  3                         735 non-null    float64\n",
      " 17  4                         735 non-null    float64\n",
      " 18  5                         735 non-null    float64\n",
      " 19  6                         735 non-null    float64\n",
      " 20  7                         735 non-null    float64\n",
      " 21  8                         735 non-null    float64\n",
      " 22  9                         735 non-null    float64\n",
      " 23  10                        735 non-null    float64\n",
      " 24  11                        735 non-null    float64\n",
      " 25  12                        735 non-null    float64\n",
      " 26  13                        735 non-null    float64\n",
      " 27  14                        735 non-null    float64\n",
      " 28  15                        735 non-null    float64\n",
      " 29  16                        735 non-null    float64\n",
      " 30  17                        735 non-null    float64\n",
      " 31  18                        735 non-null    float64\n",
      " 32  19                        735 non-null    float64\n",
      " 33  20                        735 non-null    float64\n",
      " 34  21                        735 non-null    float64\n",
      " 35  22                        735 non-null    float64\n",
      "dtypes: float64(30), object(6)\n",
      "memory usage: 219.7+ KB\n"
     ]
    }
   ],
   "source": [
    "stick_this_on_wout_DoP_outliers.info()"
   ]
  },
  {
   "cell_type": "code",
   "execution_count": 186,
   "metadata": {},
   "outputs": [],
   "source": [
    "# Select target\n",
    "data = wout_DoP_outliers\n",
    "data = data.append(stick_this_on_wout_DoP_outliers)\n",
    "y = data.ProdTaken\n",
    "\n",
    "# To keep things simple, we'll use only numerical predictors\n",
    "tourism_predictors = data.drop(['ProdTaken'], axis=1)\n",
    "X = tourism_predictors.select_dtypes(exclude=['object'])\n",
    "\n",
    "# Divide data into training and validation subsets\n",
    "X_train, X_valid, y_train, y_valid = train_test_split(X, y, train_size=0.8, test_size=0.2,\n",
    "                                                      random_state=0)"
   ]
  },
  {
   "cell_type": "code",
   "execution_count": 187,
   "metadata": {},
   "outputs": [
    {
     "name": "stdout",
     "output_type": "stream",
     "text": [
      "Pipeline(memory=None,\n",
      "         steps=[('imputer',\n",
      "                 SimpleImputer(add_indicator=False, copy=True, fill_value=None,\n",
      "                               missing_values=nan, strategy='most_frequent',\n",
      "                               verbose=0)),\n",
      "                ('encoder',\n",
      "                 OneHotEncoder(categories='auto', drop=None,\n",
      "                               dtype=<class 'numpy.float64'>,\n",
      "                               handle_unknown='ignore', sparse=True))],\n",
      "         verbose=False)\n"
     ]
    }
   ],
   "source": [
    "categorical_transformer = Pipeline(steps=[\n",
    "    ('imputer', SimpleImputer(strategy='most_frequent')),\n",
    "    ('encoder', OneHotEncoder(handle_unknown='ignore'))])\n",
    "\n",
    "preprocessor = ColumnTransformer(\n",
    "    transformers=[\n",
    "        ('cat', categorical_transformer, [0])\n",
    "    ])\n",
    "\n",
    "#for col in object_cols:\n",
    "ie = categorical_transformer.fit(nan_imputed[object_cols], y_train.append(y_valid))#<___________________STOPPING POINT\n",
    "\n",
    "print(ie)"
   ]
  },
  {
   "cell_type": "code",
   "execution_count": 188,
   "metadata": {},
   "outputs": [],
   "source": [
    "# Get names of columns with missing values\n",
    "cols_with_missing = [col for col in X_train.columns\n",
    "                     if X_train[col].isnull().any()]"
   ]
  },
  {
   "cell_type": "code",
   "execution_count": 189,
   "metadata": {},
   "outputs": [
    {
     "ename": "TypeError",
     "evalue": "unsupported operand type(s) for +: 'int' and 'str'",
     "output_type": "error",
     "traceback": [
      "\u001b[1;31m---------------------------------------------------------------------------\u001b[0m",
      "\u001b[1;31mTypeError\u001b[0m                                 Traceback (most recent call last)",
      "\u001b[1;32m<ipython-input-189-c0d716f6c555>\u001b[0m in \u001b[0;36m<module>\u001b[1;34m\u001b[0m\n\u001b[0;32m      6\u001b[0m \u001b[1;31m# Make new columns indicating what will be imputed\u001b[0m\u001b[1;33m\u001b[0m\u001b[1;33m\u001b[0m\u001b[1;33m\u001b[0m\u001b[0m\n\u001b[0;32m      7\u001b[0m \u001b[1;32mfor\u001b[0m \u001b[0mcol\u001b[0m \u001b[1;32min\u001b[0m \u001b[0mcols_with_missing\u001b[0m\u001b[1;33m:\u001b[0m\u001b[1;33m\u001b[0m\u001b[1;33m\u001b[0m\u001b[0m\n\u001b[1;32m----> 8\u001b[1;33m     \u001b[0mX_train_plus\u001b[0m\u001b[1;33m[\u001b[0m\u001b[0mcol\u001b[0m \u001b[1;33m+\u001b[0m \u001b[1;34m'_was_missing'\u001b[0m\u001b[1;33m]\u001b[0m \u001b[1;33m=\u001b[0m \u001b[0mX_train_plus\u001b[0m\u001b[1;33m[\u001b[0m\u001b[0mcol\u001b[0m\u001b[1;33m]\u001b[0m\u001b[1;33m.\u001b[0m\u001b[0misnull\u001b[0m\u001b[1;33m(\u001b[0m\u001b[1;33m)\u001b[0m\u001b[1;33m\u001b[0m\u001b[1;33m\u001b[0m\u001b[0m\n\u001b[0m\u001b[0;32m      9\u001b[0m     \u001b[0mX_valid_plus\u001b[0m\u001b[1;33m[\u001b[0m\u001b[0mcol\u001b[0m \u001b[1;33m+\u001b[0m \u001b[1;34m'_was_missing'\u001b[0m\u001b[1;33m]\u001b[0m \u001b[1;33m=\u001b[0m \u001b[0mX_valid_plus\u001b[0m\u001b[1;33m[\u001b[0m\u001b[0mcol\u001b[0m\u001b[1;33m]\u001b[0m\u001b[1;33m.\u001b[0m\u001b[0misnull\u001b[0m\u001b[1;33m(\u001b[0m\u001b[1;33m)\u001b[0m\u001b[1;33m\u001b[0m\u001b[1;33m\u001b[0m\u001b[0m\n\u001b[0;32m     10\u001b[0m \u001b[1;33m\u001b[0m\u001b[0m\n",
      "\u001b[1;31mTypeError\u001b[0m: unsupported operand type(s) for +: 'int' and 'str'"
     ]
    }
   ],
   "source": [
    "from sklearn.impute import SimpleImputer\n",
    "# Make copy to avoid changing original data (when imputing)\n",
    "X_train_plus = X_train.copy()\n",
    "X_valid_plus = X_valid.copy()\n",
    "\n",
    "# Make new columns indicating what will be imputed\n",
    "for col in cols_with_missing:\n",
    "    X_train_plus[col + '_was_missing'] = X_train_plus[col].isnull()\n",
    "    X_valid_plus[col + '_was_missing'] = X_valid_plus[col].isnull()\n",
    "\n",
    "# Imputation\n",
    "my_imputer = SimpleImputer()\n",
    "imputed_X_train_plus = pd.DataFrame(my_imputer.fit_transform(X_train_plus))\n",
    "imputed_X_valid_plus = pd.DataFrame(my_imputer.transform(X_valid_plus))\n",
    "\n",
    "# Imputation removed column names; put them back\n",
    "imputed_X_train_plus.columns = X_train_plus.columns\n",
    "imputed_X_valid_plus.columns = X_valid_plus.columns"
   ]
  },
  {
   "cell_type": "code",
   "execution_count": null,
   "metadata": {},
   "outputs": [],
   "source": [
    "X = imputed_Xtrain_plus.append(imputed_X_valid_plus)"
   ]
  },
  {
   "cell_type": "code",
   "execution_count": null,
   "metadata": {},
   "outputs": [],
   "source": [
    "#DECISION TREE\n",
    "#Pull all columns excetp the response \n",
    "tourism_cols_dt = wout_DoP_outliers.columns.tolist()\n",
    "tourism_cols_dt.remove('ProdTaken')\n",
    "print(tourism_cols_dt) \n",
    "\n",
    "#X = wout_DoP_outliers[tourism_cols_dt]\n",
    "#y = wout_DoP_outliers['ProdTaken']\n",
    "\n",
    "X_train, X_val, y_train, y_val= train_test_split(X, y,random_state = 0)\n",
    "\n",
    "#Using similar Decision Tree from the Tree sublibray of Sk Learn\n",
    "dTree = DecisionTreeClassifier(criterion = 'gini', random_state=1)\n",
    "\n",
    "#same as before\n",
    "dTree.fit(X_train, y_train)\n",
    "dTreePreds = dTree.predict(X_val)\n",
    "accuracy_dt = accuracy_score(y_val, dTreePreds)\n",
    "# Accuracy seems to be 1 - Mean Absolute Error which was 0.02\n",
    "print(\"Accuracy:\"+str(accuracy_dt))"
   ]
  },
  {
   "cell_type": "code",
   "execution_count": null,
   "metadata": {},
   "outputs": [],
   "source": [
    "column_names = list(X.columns)\n",
    "feature_names = column_names\n",
    "\n",
    "importances = dTree.feature_importances_\n",
    "indices = np.argsort(importances)\n",
    "\n",
    "plt.figure(figsize=(12,12))\n",
    "plt.title('Feature Importances')\n",
    "plt.barh(range(len(indices)), importances[indices], color='violet', align='center')\n",
    "plt.yticks(range(len(indices)), [feature_names[i] for i in indices])\n",
    "plt.xlabel('Relative Importance')\n",
    "plt.show()\n",
    "\n",
    "#Numbers ARE Categorical Data "
   ]
  },
  {
   "cell_type": "code",
   "execution_count": null,
   "metadata": {},
   "outputs": [],
   "source": [
    "#RANDOM FORREST\n",
    "#Fitting the model\n",
    "rf_estimator = RandomForestClassifier(random_state=1)\n",
    "rf_estimator.fit(X_train,y_train)\n",
    "rfPreds = rf_estimator.predict(X_val)\n",
    "#Calculating different metrics\n",
    "#get_metrics_score(rf_estimator)\n",
    "\n",
    "accuracy_rfr = accuracy_score(y_val, rfPreds)\n",
    "# Accuracy seems to be 1 - Mean Absolute Error\n",
    "print(\"Accuracy:\"+str(accuracy_rfr))\n",
    "\n",
    "#Creating confusion matrix\n",
    "#make_confusion_matrix(rf_estimator,y_test)"
   ]
  },
  {
   "cell_type": "code",
   "execution_count": null,
   "metadata": {},
   "outputs": [],
   "source": [
    "success_prop = np.round(557/(2370+557),1)\n",
    "failure_prop = 1-success_prop\n",
    "print(success_prop)"
   ]
  },
  {
   "cell_type": "code",
   "execution_count": null,
   "metadata": {},
   "outputs": [],
   "source": [
    "# Choose the type of classifier. \n",
    "rf_estimator_weighted = RandomForestClassifier(random_state=1)\n",
    "\n",
    "# Grid of parameters to choose from\n",
    "## add from article\n",
    "parameters = {\n",
    "    \"class_weight\": [{0: success_prop, 1: failure_prop}],\n",
    "    \"n_estimators\": [100,150,200,250],\n",
    "    \"min_samples_leaf\": np.arange(5, 10),\n",
    "    \"max_features\": np.arange(0.2, 0.7, 0.1),\n",
    "    \"max_samples\": np.arange(0.3, 0.7, 0.1),\n",
    "}\n",
    "\n",
    "# Type of scoring used to compare parameter combinations\n",
    "acc_scorer = metrics.make_scorer(metrics.recall_score)\n",
    "\n",
    "# Run the grid search\n",
    "grid_obj = GridSearchCV(rf_estimator_weighted, parameters, scoring=acc_scorer,cv=5)\n",
    "grid_obj = grid_obj.fit(X_train, y_train)\n",
    "\n",
    "# Set the clf to the best combination of parameters\n",
    "rf_estimator_weighted = grid_obj.best_estimator_\n",
    "\n",
    "# Fit the best algorithm to the data.\n",
    "rf_estimator_weighted.fit(X_train, y_train)\n",
    "rfwPreds = rf_estimator_weighted.predict(X_val)\n",
    "accuracy_rfr_weighted = accuracy_score(y_val, rfwPreds)\n",
    "# Accuracy seems to be 1 - Mean Absolute Error\n",
    "print(\"Accuracy:\"+str(accuracy_rfr_weighted))\n",
    "#started at 7:23 end 8:02"
   ]
  },
  {
   "cell_type": "code",
   "execution_count": null,
   "metadata": {},
   "outputs": [],
   "source": [
    "print(\"Accuracy Difference:\"+str(accuracy_dt - accuracy_rfr))"
   ]
  },
  {
   "cell_type": "code",
   "execution_count": null,
   "metadata": {},
   "outputs": [],
   "source": [
    "#BAGGING CLASSIFIER\n",
    "bagging_estimator=BaggingClassifier(random_state=1)\n",
    "bagging_estimator.fit(X_train,y_train)\n",
    "bcpreds = bagging_estimator.predict(X_val)\n",
    "accuracy_bc = accuracy_score(y_val, bcpreds)\n",
    "print(\"Accuracy:\"+str(accuracy_bc))"
   ]
  },
  {
   "cell_type": "code",
   "execution_count": null,
   "metadata": {},
   "outputs": [],
   "source": [
    "# Choose the type of classifier. \n",
    "bagging_estimator_tuned = BaggingClassifier(random_state=1)\n",
    "\n",
    "# Grid of parameters to choose from\n",
    "## add from article\n",
    "parameters = {'max_samples': [0.7,0.8,0.9,1], \n",
    "              'max_features': [0.7,0.8,0.9,1],\n",
    "              'n_estimators' : [10,20,30,40,50],\n",
    "             }\n",
    "\n",
    "# Type of scoring used to compare parameter combinations\n",
    "acc_scorer = metrics.make_scorer(metrics.recall_score)\n",
    "\n",
    "# Run the grid search\n",
    "grid_obj = GridSearchCV(bagging_estimator_tuned, parameters, scoring=acc_scorer,cv=5)\n",
    "grid_obj = grid_obj.fit(X_train, y_train)\n",
    "\n",
    "# Set the clf to the best combination of parameters\n",
    "bagging_estimator_tuned = grid_obj.best_estimator_\n",
    "\n",
    "# Fit the best algorithm to the data.\n",
    "bagging_estimator_tuned.fit(X_train, y_train)\n",
    "\n",
    "bcTunedPreds = bagging_estimator_tuned.predict(X_val)\n",
    "accuracy_bcTuned = accuracy_score(y_val, bcTunedPreds)\n",
    "print(\"Accuracy:\"+str(accuracy_bcTuned))"
   ]
  },
  {
   "cell_type": "code",
   "execution_count": null,
   "metadata": {},
   "outputs": [],
   "source": [
    "#PRUNING DECISION TREE\n",
    "clf = DecisionTreeClassifier(random_state=1)\n",
    "path = clf.cost_complexity_pruning_path(X_train, y_train)\n",
    "ccp_alphas, impurities = path.ccp_alphas, path.impurities\n",
    "fig, ax = plt.subplots(figsize=(15,5))\n",
    "ax.plot(ccp_alphas[:-1], impurities[:-1], marker='o', drawstyle=\"steps-post\")\n",
    "ax.set_xlabel(\"effective alpha\")\n",
    "ax.set_ylabel(\"total impurity of leaves\")\n",
    "ax.set_title(\"Total Impurity vs effective alpha for training set\")\n",
    "plt.show()"
   ]
  },
  {
   "cell_type": "code",
   "execution_count": null,
   "metadata": {},
   "outputs": [],
   "source": [
    "clfs = []\n",
    "for ccp_alpha in ccp_alphas:\n",
    "    clf = DecisionTreeClassifier(random_state=1, ccp_alpha=ccp_alpha)\n",
    "    clf.fit(X_train, y_train)\n",
    "    clfs.append(clf)\n",
    "print(\"Number of nodes in the last tree is: {} with ccp_alpha: {}\".format(\n",
    "      clfs[-1].tree_.node_count, ccp_alphas[-1]))"
   ]
  },
  {
   "cell_type": "code",
   "execution_count": null,
   "metadata": {},
   "outputs": [],
   "source": [
    "clfPred = clf.predict(X_val)\n",
    "accuracy = accuracy_score(y_val, clfPred)\n",
    "# There Seems to be no improvement from Pruning\n",
    "print(\"Accuracy:\"+str(accuracy))"
   ]
  },
  {
   "cell_type": "code",
   "execution_count": null,
   "metadata": {},
   "outputs": [],
   "source": [
    "clfs = clfs[:-1]\n",
    "ccp_alphas = ccp_alphas[:-1]\n",
    "\n",
    "node_counts = [clf.tree_.node_count for clf in clfs]\n",
    "depth = [clf.tree_.max_depth for clf in clfs]\n",
    "fig, ax = plt.subplots(2, 1,figsize=(10,7))\n",
    "ax[0].plot(ccp_alphas, node_counts, marker='o', drawstyle=\"steps-post\")\n",
    "ax[0].set_xlabel(\"alpha\")\n",
    "ax[0].set_ylabel(\"number of nodes\")\n",
    "ax[0].set_title(\"Number of nodes vs alpha\")\n",
    "ax[1].plot(ccp_alphas, depth, marker='o', drawstyle=\"steps-post\")\n",
    "ax[1].set_xlabel(\"alpha\")\n",
    "ax[1].set_ylabel(\"depth of tree\")\n",
    "ax[1].set_title(\"Depth vs alpha\")\n",
    "fig.tight_layout()"
   ]
  },
  {
   "cell_type": "code",
   "execution_count": null,
   "metadata": {},
   "outputs": [],
   "source": [
    "recall_train=[]\n",
    "for clf in clfs:\n",
    "    pred_train3=clf.predict(X_train)\n",
    "    values_train=metrics.recall_score(y_train,pred_train3)\n",
    "    recall_train.append(values_train)\n",
    "recall_test=[]\n",
    "for clf in clfs:\n",
    "    pred_test3=clf.predict(X_val)\n",
    "    values_test=metrics.recall_score(y_val,pred_test3)\n",
    "    recall_test.append(values_test)"
   ]
  },
  {
   "cell_type": "code",
   "execution_count": null,
   "metadata": {},
   "outputs": [],
   "source": [
    "fig, ax = plt.subplots(figsize=(15,5))\n",
    "ax.set_xlabel(\"alpha\")\n",
    "ax.set_ylabel(\"Recall\")\n",
    "ax.set_title(\"Recall vs alpha for training and testing sets\")\n",
    "ax.plot(ccp_alphas, recall_train, marker='o', label=\"train\",\n",
    "        drawstyle=\"steps-post\")\n",
    "ax.plot(ccp_alphas, recall_test, marker='o', label=\"test\",\n",
    "        drawstyle=\"steps-post\")\n",
    "ax.legend()\n",
    "plt.show()"
   ]
  },
  {
   "cell_type": "code",
   "execution_count": null,
   "metadata": {},
   "outputs": [],
   "source": [
    "# creating the model where we get highest train and test recall\n",
    "index_best_model = np.argmax(recall_test)\n",
    "best_model = clfs[index_best_model]\n",
    "print(best_model)"
   ]
  },
  {
   "cell_type": "code",
   "execution_count": null,
   "metadata": {},
   "outputs": [],
   "source": [
    "clfBMPred = best_model.predict(X_val)\n",
    "accuracy = accuracy_score(y_val, clfBMPred)\n",
    "# There still seems to be no improvement from Pruning and themodel isnt much more simple\n",
    "print(\"Accuracy:\"+str(accuracy))"
   ]
  },
  {
   "cell_type": "code",
   "execution_count": null,
   "metadata": {},
   "outputs": [],
   "source": [
    "plt.figure(figsize=(10,10))\n",
    "\n",
    "out = tree.plot_tree(best_model,feature_names=feature_names,filled=True,fontsize=9,node_ids=True,class_names=True)\n",
    "for o in out:\n",
    "     arrow = o.arrow_patch\n",
    "     if arrow is not None:\n",
    "        arrow.set_edgecolor('black')\n",
    "        arrow.set_linewidth(1)\n",
    "plt.show()\n",
    "plt.show()"
   ]
  },
  {
   "cell_type": "code",
   "execution_count": null,
   "metadata": {},
   "outputs": [],
   "source": [
    "#THEREFORE PRUNING THE TREE MADE IT APPROXIMATELY AS ACCURATE AS RFR"
   ]
  },
  {
   "cell_type": "code",
   "execution_count": null,
   "metadata": {},
   "outputs": [],
   "source": [
    "#ADA BOOST\n",
    "abc = AdaBoostClassifier(random_state=1)\n",
    "abc.fit(X_train,y_train)"
   ]
  },
  {
   "cell_type": "code",
   "execution_count": null,
   "metadata": {},
   "outputs": [],
   "source": [
    "#Using above defined function to get accuracy, recall and precision on train and test set\n",
    "abc_score=get_metrics_score(abc)"
   ]
  },
  {
   "cell_type": "code",
   "execution_count": null,
   "metadata": {},
   "outputs": [],
   "source": [
    "#GRADIENT BOOST with ADABOOST"
   ]
  },
  {
   "cell_type": "code",
   "execution_count": null,
   "metadata": {},
   "outputs": [],
   "source": [
    "# Choose the type of classifier. \n",
    "gbc_tuned = GradientBoostingClassifier(init=AdaBoostClassifier(random_state=1),random_state=1)\n",
    "\n",
    "# Grid of parameters to choose from\n",
    "## add from article\n",
    "parameters = {\n",
    "    \"n_estimators\": [100,150,200,250],\n",
    "    \"subsample\":[0.8,0.9,1],\n",
    "    \"max_features\":[0.7,0.8,0.9,1]\n",
    "}\n",
    "\n",
    "# Type of scoring used to compare parameter combinations\n",
    "acc_scorer = metrics.make_scorer(metrics.recall_score)\n",
    "\n",
    "# Run the grid search\n",
    "grid_obj = GridSearchCV(gbc_tuned, parameters, scoring=acc_scorer,cv=5)\n",
    "grid_obj = grid_obj.fit(X_train, y_train)\n",
    "\n",
    "# Set the clf to the best combination of parameters\n",
    "gbc_tuned = grid_obj.best_estimator_\n",
    "\n",
    "# Fit the best algorithm to the data.\n",
    "gbc_tuned.fit(X_train, y_train)"
   ]
  },
  {
   "cell_type": "code",
   "execution_count": null,
   "metadata": {},
   "outputs": [],
   "source": [
    "#Using above defined function to get accuracy, recall and precision on train and test set\n",
    "gbc_tuned_score=get_metrics_score(gbc_tuned)"
   ]
  },
  {
   "cell_type": "code",
   "execution_count": null,
   "metadata": {},
   "outputs": [],
   "source": [
    "# XGBOOST "
   ]
  },
  {
   "cell_type": "code",
   "execution_count": null,
   "metadata": {},
   "outputs": [],
   "source": [
    "# Choose the type of classifier. \n",
    "\n",
    "xgb_tuned = XGBClassifier(random_state=1,verbosity=0)\n",
    "\n",
    "# Grid of parameters to choose from\n",
    "## add from\n",
    "parameters = {\n",
    "    \"n_estimators\": np.arange(10),#,100,20),\n",
    "    \"scale_pos_weight\":[0],#,1,2,5],\n",
    "    \"subsample\":[0.5],#,0.7,0.9,1],\n",
    "    \"learning_rate\":[0.01],#0.1,0.2,0.05,\n",
    "    \"gamma\":[0],#,1,3],\n",
    "    \"colsample_bytree\":[0.5],#,0.7,0.9,1],\n",
    "    \"colsample_bylevel\":[0.5],#,0.7,0.9,1]\n",
    "}\n",
    "\n",
    "# Type of scoring used to compare parameter combinations\n",
    "acc_scorer = metrics.make_scorer(metrics.recall_score)\n",
    "\n",
    "# Run the grid search\n",
    "grid_obj = GridSearchCV(xgb_tuned, parameters, scoring=acc_scorer,cv=5)\n",
    "grid_obj = grid_obj.fit(X_train, y_train)\n",
    "\n",
    "# Set the clf to the best combination of parameters\n",
    "xgb_tuned = grid_obj.best_estimator_\n",
    "\n",
    "# Fit the best algorithm to the data.\n",
    "xgb_tuned.fit(X_train, y_train)"
   ]
  },
  {
   "cell_type": "code",
   "execution_count": null,
   "metadata": {},
   "outputs": [],
   "source": [
    "#Using above defined function to get accuracy, recall and precision on train and test set\n",
    "xgb_tuned_score=get_metrics_score(xgb_tuned)"
   ]
  },
  {
   "cell_type": "code",
   "execution_count": null,
   "metadata": {},
   "outputs": [],
   "source": [
    "#COMPARING MODELS"
   ]
  },
  {
   "cell_type": "code",
   "execution_count": null,
   "metadata": {},
   "outputs": [],
   "source": [
    "# defining list of models\n",
    "models = [abc, abc_tuned, gbc, gbc_init, gbc_tuned, xgb, xgb_tuned]\n",
    "\n",
    "# defining empty lists to add train and test results\n",
    "acc_train = []\n",
    "acc_test = []\n",
    "recall_train = []\n",
    "recall_test = []\n",
    "precision_train = []\n",
    "precision_test = []\n",
    "\n",
    "# looping through all the models to get the accuracy, precall and precision scores\n",
    "for model in models:\n",
    "    j = get_metrics_score(model,False)\n",
    "    acc_train.append(np.round(j[0],2))\n",
    "    acc_test.append(np.round(j[1],2))\n",
    "    recall_train.append(np.round(j[2],2))\n",
    "    recall_test.append(np.round(j[3],2))\n",
    "    precision_train.append(np.round(j[4],2))\n",
    "    precision_test.append(np.round(j[5],2))"
   ]
  },
  {
   "cell_type": "code",
   "execution_count": null,
   "metadata": {},
   "outputs": [],
   "source": [
    "comparison_frame = pd.DataFrame({'Model':['AdaBoost with default paramters','AdaBoost Tuned', \n",
    "                                          'Gradient Boosting with default parameters','Gradient Boosting with init=AdaBoost',\n",
    "                                          'Gradient Boosting Tuned','XGBoost with default parameters','XGBoost Tuned'], \n",
    "                                          'Train_Accuracy': acc_train,'Test_Accuracy': acc_test,\n",
    "                                          'Train_Recall':recall_train,'Test_Recall':recall_test,\n",
    "                                          'Train_Precision':precision_train,'Test_Precision':precision_test}) \n",
    "comparison_frame"
   ]
  }
 ],
 "metadata": {
  "kernelspec": {
   "display_name": "Python 3",
   "language": "python",
   "name": "python3"
  },
  "language_info": {
   "codemirror_mode": {
    "name": "ipython",
    "version": 3
   },
   "file_extension": ".py",
   "mimetype": "text/x-python",
   "name": "python",
   "nbconvert_exporter": "python",
   "pygments_lexer": "ipython3",
   "version": "3.7.6"
  }
 },
 "nbformat": 4,
 "nbformat_minor": 4
}
